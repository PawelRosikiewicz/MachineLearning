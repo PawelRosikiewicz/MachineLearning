{
 "cells": [
  {
   "cell_type": "markdown",
   "id": "f49e99b6-3021-4353-844e-81737547c819",
   "metadata": {},
   "source": [
    "---\n",
    "# Pandas String Funcitons\n",
    "Pandas String Funcitons, Regex functions, and working with text\n",
    "\n",
    "---\n",
    "\n",
    "Code examples on the most frequently used functions - Collected, Created and Edited by Pawel Rosikiewicz www.SimpleAI.ch"
   ]
  },
  {
   "cell_type": "markdown",
   "id": "4a96ec49-1faa-45ef-88d0-0391ed491b8e",
   "metadata": {},
   "source": [
    "### __MOST IMPORTNAT LINK (all pandas str functions!) are here__     \n",
    "https://pandas.pydata.org/pandas-docs/stable/user_guide/text.html\n",
    "\n",
    "### __What so special in text data?__\n",
    "* often messy\n",
    "* usually not in a standardized format ready for analysis\n",
    "* more difficult to make solid conclusions, or plot,\n",
    "\n",
    "### __String functions in pandas vs built-in string functions__\n",
    "* examples of built-in string functions are in Python_data_structures notebook\n",
    "* Python's string functions are for individual string objects\n",
    "* Pandas functions are for Series and DataFrames\n",
    "\n",
    "### __Pandas string funcitons__\n",
    "* str attribute    \n",
    "* names matching the corresponding build-in string functions         "
   ]
  },
  {
   "cell_type": "code",
   "execution_count": 80,
   "id": "c8f69996-a749-4c4d-bbac-af354fbfbb52",
   "metadata": {},
   "outputs": [],
   "source": [
    "import re\n",
    "import numpy as np\n",
    "import pandas as pd"
   ]
  },
  {
   "cell_type": "code",
   "execution_count": null,
   "id": "d534c04c-c85c-49c6-8b65-5a6f5c683011",
   "metadata": {},
   "outputs": [],
   "source": []
  },
  {
   "cell_type": "markdown",
   "id": "91861b27-2cb2-47f9-882b-03cbfe0b4742",
   "metadata": {},
   "source": [
    "## CREATED & INSPECT\n",
    "---"
   ]
  },
  {
   "cell_type": "markdown",
   "id": "a2eef611-35be-472f-954b-ba781f50346e",
   "metadata": {},
   "source": [
    "![outliers_slide_01](images/Regex_and_String_Functions__Slide1.png)"
   ]
  },
  {
   "cell_type": "markdown",
   "id": "5b3ce6fd-0d5f-4dd9-92f5-4a0ff8f78100",
   "metadata": {},
   "source": [
    "### Create raw string & pd.Series with substrings"
   ]
  },
  {
   "cell_type": "code",
   "execution_count": 55,
   "id": "38ae2fb8-f403-4b6a-9dd8-bd1c311f34d6",
   "metadata": {},
   "outputs": [],
   "source": [
    "# string example\n",
    "''' pd.series, different dtypes, each item is called a substring\n",
    "    string buildin, funcitons, works only on each item separately, \n",
    "'''\n",
    "s = pd.Series(['0','PawelBig', 'Anna Romanow', '01236789', np.nan, ' '])"
   ]
  },
  {
   "cell_type": "code",
   "execution_count": 56,
   "id": "c7e61e0a-eddc-4f64-9d2b-c9bba92b577e",
   "metadata": {},
   "outputs": [],
   "source": [
    "# raw string example\n",
    "'''used to search patterns with regex'''\n",
    "pat = r'[a-z]+'"
   ]
  },
  {
   "cell_type": "markdown",
   "id": "6c34969e-486f-467d-97a2-9101097ce0df",
   "metadata": {},
   "source": [
    "### Inspect substrings"
   ]
  },
  {
   "cell_type": "code",
   "execution_count": 58,
   "id": "7ff2cfc5-5060-4a16-823c-44f322b36a4b",
   "metadata": {},
   "outputs": [
    {
     "data": {
      "text/plain": [
       "dtype('O')"
      ]
     },
     "execution_count": 58,
     "metadata": {},
     "output_type": "execute_result"
    }
   ],
   "source": [
    "s.dtype # dtype('0') for mixed dtypes"
   ]
  },
  {
   "cell_type": "code",
   "execution_count": 32,
   "id": "22284251-a7cd-4d89-8154-6862bb9067fa",
   "metadata": {},
   "outputs": [
    {
     "data": {
      "text/plain": [
       "0    False\n",
       "1    False\n",
       "2     True\n",
       "3    False\n",
       "4      NaN\n",
       "5    False\n",
       "dtype: object"
      ]
     },
     "execution_count": 32,
     "metadata": {},
     "output_type": "execute_result"
    }
   ],
   "source": [
    "# inspect each substring\n",
    "s.str.len() # len of each substrings in a series\n",
    "s.str.isalpha() # np.nan returns NAN!\n",
    "s.str.isnumeric() # '0' & '01236789' are numeric!\n",
    "s.str.isalnum() # if yoiu have even one whitespace - is is false\n",
    "s.str.isdigit() # eas expected, \n",
    "s.str.isspace() # True only for ' '\n",
    "s.str.islower() # True only if all char are ...\n",
    "s.str.isupper() # same ...\n",
    "s.str.isdecimal() # if all char are decimal, \n",
    "s.str.istitle() # This Is Title"
   ]
  },
  {
   "cell_type": "code",
   "execution_count": null,
   "id": "52d0cf5f-9169-418e-aa5c-10fa3d2f9e51",
   "metadata": {},
   "outputs": [],
   "source": []
  },
  {
   "cell_type": "markdown",
   "id": "a0649a6c-e396-40b6-9a2e-2b95e71ade8e",
   "metadata": {},
   "source": [
    "## SEACRH & FIND\n",
    "---\n",
    "\n",
    "* you search for pattern in a string, \n",
    "* can use regular expression that are at the end of this notebook\n"
   ]
  },
  {
   "cell_type": "markdown",
   "id": "25f19c89-2ceb-4efa-a72b-8fd14cb7500c",
   "metadata": {},
   "source": [
    "![outliers_slide_01](images/Regex_and_String_Functions__Slide4.png)"
   ]
  },
  {
   "cell_type": "markdown",
   "id": "d95d692d-8f0d-4a27-9f59-8653d29cd844",
   "metadata": {},
   "source": [
    "### Find pattern in each substring\n",
    "ie. if len(series)==8, then there will be 8 results retiurnsed in Pd.Series   \n",
    "__.str functions may return for each substring:__\n",
    "* True/False\n",
    "    * __str.contains__\n",
    "    * __str.match__\n",
    "    * __str.startwith__\n",
    "    * __str.endwith__\n",
    "* Index nr in each substring\n",
    "    * __str.find__; lowest index\n",
    "    * __str.rfind__; thie highes index\n",
    "    * __str.index__; values error if not found, \n",
    "    * __str.rindex__; ...\n",
    "* 0/1\n",
    "    * __str.get_dummies__; in different columns, 0/1"
   ]
  },
  {
   "cell_type": "markdown",
   "id": "4001b8d8-6c32-448a-98d0-212aa8f06b0e",
   "metadata": {},
   "source": [
    "#### (a) Contains, match, startwith, endwith"
   ]
  },
  {
   "cell_type": "code",
   "execution_count": 94,
   "id": "edadf8a6-caf6-4cde-8ba9-8f86fe6bfa47",
   "metadata": {},
   "outputs": [],
   "source": [
    "s = pd.Series(['0','PawelBig', 'Anna Romanow', '01236789', np.nan, ' '])"
   ]
  },
  {
   "cell_type": "code",
   "execution_count": 108,
   "id": "edaeed03-e90d-4cee-aee2-8ff359977997",
   "metadata": {},
   "outputs": [
    {
     "data": {
      "text/plain": [
       "[False, True, False, False, nan, False]"
      ]
     },
     "execution_count": 108,
     "metadata": {},
     "output_type": "execute_result"
    }
   ],
   "source": [
    "# ignorcase, from re module - only strings as inputs\n",
    "s.str.contains(pat='big', flags=re.IGNORECASE).values.tolist()"
   ]
  },
  {
   "cell_type": "code",
   "execution_count": 109,
   "id": "761e2af2-9edb-4aac-908f-4924e1dca1e7",
   "metadata": {},
   "outputs": [
    {
     "data": {
      "text/plain": [
       "1    PawelBig\n",
       "dtype: object"
      ]
     },
     "execution_count": 109,
     "metadata": {},
     "output_type": "execute_result"
    }
   ],
   "source": [
    "# select with returnd results\n",
    "\"\"\"remeber to replace na if you use that for selection!\"\"\"\n",
    "flag = s.str.contains(pat='big', flags=re.IGNORECASE, na=False).values.tolist()\n",
    "s.iloc[flag]"
   ]
  },
  {
   "cell_type": "code",
   "execution_count": 76,
   "id": "b427bcc6-7270-421d-a724-eebea56d59ba",
   "metadata": {},
   "outputs": [
    {
     "data": {
      "text/plain": [
       "array([False, True, False, False, 'whatever_here is Na', False],\n",
       "      dtype=object)"
      ]
     },
     "execution_count": 76,
     "metadata": {},
     "output_type": "execute_result"
    }
   ],
   "source": [
    "# more options\n",
    "s.str.contains(\n",
    "    pat='Pa', \n",
    "    case=True,# case sensitive\n",
    "    regex=True, # if False, treats patern, as string literal, no regex\n",
    "    na=\"whatever_here is Na\" # Fill value for Na\n",
    ").values"
   ]
  },
  {
   "cell_type": "code",
   "execution_count": 85,
   "id": "e34f259b-2611-4d6e-a032-9360b1608c1b",
   "metadata": {},
   "outputs": [
    {
     "data": {
      "text/plain": [
       "array([True, False, False, True, nan, False], dtype=object)"
      ]
     },
     "execution_count": 85,
     "metadata": {},
     "output_type": "execute_result"
    }
   ],
   "source": [
    "# and, or \n",
    "s.str.contains('0') | s.str.contains('1') #  0 or 1\n",
    "s.str.contains('0') & s.str.contains('1') #  0 and 1\n",
    "s.str.contains('0|1').values # works only with |"
   ]
  },
  {
   "cell_type": "markdown",
   "id": "b3559d3f-31d7-4595-aa84-c0ed49069c8c",
   "metadata": {},
   "source": [
    "#### --- match, stre/endwith \n",
    "* match is more strinct then contains, \n",
    "* starte/end with are always casesensitive!\n",
    "    * no flags!"
   ]
  },
  {
   "cell_type": "code",
   "execution_count": 83,
   "id": "01aec1f0-b42a-4893-943f-b1602eeceb96",
   "metadata": {},
   "outputs": [
    {
     "data": {
      "text/plain": [
       "array([False, True, False, False, nan, False], dtype=object)"
      ]
     },
     "execution_count": 83,
     "metadata": {},
     "output_type": "execute_result"
    }
   ],
   "source": [
    "# match with flag\n",
    "s.str.match(pat='Pa', flags=re.IGNORECASE).values"
   ]
  },
  {
   "cell_type": "code",
   "execution_count": 93,
   "id": "18b590f7-5141-4ce3-b643-8dc60df03d00",
   "metadata": {},
   "outputs": [
    {
     "data": {
      "text/plain": [
       "array([False, False, True, False, 'no other pasrams', False], dtype=object)"
      ]
     },
     "execution_count": 93,
     "metadata": {},
     "output_type": "execute_result"
    }
   ],
   "source": [
    "s.str.startswith(pat='Paw', na=\"no other pasrams\").values\n",
    "s.str.endswith(pat='now', na=\"no other pasrams\").values"
   ]
  },
  {
   "cell_type": "markdown",
   "id": "c2017bd0-87b0-4d1f-b867-0e7d924ff6be",
   "metadata": {},
   "source": [
    "#### (b) find, rfind, index, rindex\n",
    "* find & rfind, retuirn pattern idx in each substring\n",
    "    * Each of returned indexes corresponds to the position where the substring is fully contained between [start:end].\n",
    "    * Return -1 on failure.\n",
    "    * differences:\n",
    "        * find - first encountered substring\n",
    "        * rfind - the last encourntered substring\n",
    "* index & rindex; works the same, but retunr ValiueError if pattern is not found"
   ]
  },
  {
   "cell_type": "code",
   "execution_count": 136,
   "id": "a8e26154-9545-467e-89f9-344dc5f883c4",
   "metadata": {},
   "outputs": [],
   "source": [
    "s = pd.Series(['0','PawelBig', 'Anna Romanow', '012367089', np.nan, ' '])"
   ]
  },
  {
   "cell_type": "code",
   "execution_count": 127,
   "id": "cd5dfb64-79b6-4100-9805-b3d4952b2917",
   "metadata": {},
   "outputs": [
    {
     "data": {
      "text/plain": [
       "array([ 0., -1., -1.,  0., nan, -1.])"
      ]
     },
     "execution_count": 127,
     "metadata": {},
     "output_type": "execute_result"
    }
   ],
   "source": [
    "# find idx with the lowest value\n",
    "s.str.find(sub=\"0\").values"
   ]
  },
  {
   "cell_type": "code",
   "execution_count": 128,
   "id": "454f4413-6ce4-4566-81c6-167be914a52e",
   "metadata": {},
   "outputs": [
    {
     "data": {
      "text/plain": [
       "array([ 0., -1., -1.,  6., nan, -1.])"
      ]
     },
     "execution_count": 128,
     "metadata": {},
     "output_type": "execute_result"
    }
   ],
   "source": [
    "# .. idx with the highest value\n",
    "s.str.rfind(sub=\"0\").values"
   ]
  },
  {
   "cell_type": "code",
   "execution_count": 129,
   "id": "6e0997f3-d17b-45eb-97f8-2bae4f185c5c",
   "metadata": {},
   "outputs": [
    {
     "data": {
      "text/plain": [
       "array([ 0., -1., -1.,  0., nan, -1.])"
      ]
     },
     "execution_count": 129,
     "metadata": {},
     "output_type": "execute_result"
    }
   ],
   "source": [
    "# define substring idx's to search\n",
    "s.str.find(sub=\"0\", start=0, end=3).values"
   ]
  },
  {
   "cell_type": "markdown",
   "id": "7b38d243-529b-4104-82f0-1879cf059252",
   "metadata": {},
   "source": [
    "#### (c) Get_dummies\n",
    "* intersting option\n",
    "    * Each string in Series is split by sep and returned as a DataFrame of dummy/indicator variables.\n",
    "* do not return columns with nan presence,"
   ]
  },
  {
   "cell_type": "code",
   "execution_count": 145,
   "id": "b5d7bb8b-6d7d-4c5e-a336-8665bf53e361",
   "metadata": {},
   "outputs": [
    {
     "data": {
      "text/html": [
       "<div>\n",
       "<style scoped>\n",
       "    .dataframe tbody tr th:only-of-type {\n",
       "        vertical-align: middle;\n",
       "    }\n",
       "\n",
       "    .dataframe tbody tr th {\n",
       "        vertical-align: top;\n",
       "    }\n",
       "\n",
       "    .dataframe thead th {\n",
       "        text-align: right;\n",
       "    }\n",
       "</style>\n",
       "<table border=\"1\" class=\"dataframe\">\n",
       "  <thead>\n",
       "    <tr style=\"text-align: right;\">\n",
       "      <th></th>\n",
       "      <th></th>\n",
       "      <th>0</th>\n",
       "      <th>012367089</th>\n",
       "      <th>Anna Romanow</th>\n",
       "      <th>PawelBig</th>\n",
       "    </tr>\n",
       "  </thead>\n",
       "  <tbody>\n",
       "    <tr>\n",
       "      <th>0</th>\n",
       "      <td>0</td>\n",
       "      <td>1</td>\n",
       "      <td>0</td>\n",
       "      <td>0</td>\n",
       "      <td>0</td>\n",
       "    </tr>\n",
       "    <tr>\n",
       "      <th>1</th>\n",
       "      <td>0</td>\n",
       "      <td>0</td>\n",
       "      <td>0</td>\n",
       "      <td>0</td>\n",
       "      <td>1</td>\n",
       "    </tr>\n",
       "    <tr>\n",
       "      <th>2</th>\n",
       "      <td>0</td>\n",
       "      <td>0</td>\n",
       "      <td>0</td>\n",
       "      <td>1</td>\n",
       "      <td>0</td>\n",
       "    </tr>\n",
       "    <tr>\n",
       "      <th>3</th>\n",
       "      <td>0</td>\n",
       "      <td>0</td>\n",
       "      <td>1</td>\n",
       "      <td>0</td>\n",
       "      <td>0</td>\n",
       "    </tr>\n",
       "    <tr>\n",
       "      <th>4</th>\n",
       "      <td>0</td>\n",
       "      <td>0</td>\n",
       "      <td>0</td>\n",
       "      <td>0</td>\n",
       "      <td>0</td>\n",
       "    </tr>\n",
       "    <tr>\n",
       "      <th>5</th>\n",
       "      <td>1</td>\n",
       "      <td>0</td>\n",
       "      <td>0</td>\n",
       "      <td>0</td>\n",
       "      <td>0</td>\n",
       "    </tr>\n",
       "  </tbody>\n",
       "</table>\n",
       "</div>"
      ],
      "text/plain": [
       "      0  012367089  Anna Romanow  PawelBig\n",
       "0  0  1          0             0         0\n",
       "1  0  0          0             0         1\n",
       "2  0  0          0             1         0\n",
       "3  0  0          1             0         0\n",
       "4  0  0          0             0         0\n",
       "5  1  0          0             0         0"
      ]
     },
     "execution_count": 145,
     "metadata": {},
     "output_type": "execute_result"
    }
   ],
   "source": [
    "s.str.get_dummies()"
   ]
  },
  {
   "cell_type": "code",
   "execution_count": 147,
   "id": "4055c0ca-d044-41a9-bdf1-340b2641e002",
   "metadata": {},
   "outputs": [
    {
     "data": {
      "text/html": [
       "<div>\n",
       "<style scoped>\n",
       "    .dataframe tbody tr th:only-of-type {\n",
       "        vertical-align: middle;\n",
       "    }\n",
       "\n",
       "    .dataframe tbody tr th {\n",
       "        vertical-align: top;\n",
       "    }\n",
       "\n",
       "    .dataframe thead th {\n",
       "        text-align: right;\n",
       "    }\n",
       "</style>\n",
       "<table border=\"1\" class=\"dataframe\">\n",
       "  <thead>\n",
       "    <tr style=\"text-align: right;\">\n",
       "      <th></th>\n",
       "      <th>a</th>\n",
       "      <th>b</th>\n",
       "      <th>c</th>\n",
       "    </tr>\n",
       "  </thead>\n",
       "  <tbody>\n",
       "    <tr>\n",
       "      <th>0</th>\n",
       "      <td>1</td>\n",
       "      <td>1</td>\n",
       "      <td>0</td>\n",
       "    </tr>\n",
       "    <tr>\n",
       "      <th>1</th>\n",
       "      <td>1</td>\n",
       "      <td>0</td>\n",
       "      <td>0</td>\n",
       "    </tr>\n",
       "    <tr>\n",
       "      <th>2</th>\n",
       "      <td>1</td>\n",
       "      <td>0</td>\n",
       "      <td>1</td>\n",
       "    </tr>\n",
       "  </tbody>\n",
       "</table>\n",
       "</div>"
      ],
      "text/plain": [
       "   a  b  c\n",
       "0  1  1  0\n",
       "1  1  0  0\n",
       "2  1  0  1"
      ]
     },
     "execution_count": 147,
     "metadata": {},
     "output_type": "execute_result"
    }
   ],
   "source": [
    "pd.Series(['a|b', 'a', 'a|c']).str.get_dummies()"
   ]
  },
  {
   "cell_type": "code",
   "execution_count": null,
   "id": "acd6c3f4-8404-4454-90e9-14fb0b0962c8",
   "metadata": {},
   "outputs": [],
   "source": []
  },
  {
   "cell_type": "markdown",
   "id": "b3df89d7-6264-4bbb-a232-a8c9da5bf8fb",
   "metadata": {},
   "source": [
    "### Find pattern and return it\n",
    "* __MAin Function__\n",
    "    * __.str.findall()__; returns pd.Series, with list in each cell\n",
    "    * __.str.extract()__; extract first match only, NAN IF NOTHING,expand=True, possible\n",
    "    * __.str.extractall()__; extratc all mathcing patterns, if>1, creats mutiindex, always expanding results to df\n",
    "* __Notes__:\n",
    "    * these functions, match the pattern and extract it for work, or examination,\n",
    "    * the rest of the substring is ignored"
   ]
  },
  {
   "cell_type": "code",
   "execution_count": 161,
   "id": "4524331d-37a1-4e25-95cd-9736a8320597",
   "metadata": {},
   "outputs": [],
   "source": [
    "s = pd.Series(['bla', 'BLA', 'some random BLA and bla','blablabla'])"
   ]
  },
  {
   "cell_type": "code",
   "execution_count": 162,
   "id": "74e69949-a2fa-412a-876a-34facfad5198",
   "metadata": {},
   "outputs": [
    {
     "data": {
      "text/plain": [
       "0              [bla]\n",
       "1              [BLA]\n",
       "2         [BLA, bla]\n",
       "3    [bla, bla, bla]\n",
       "dtype: object"
      ]
     },
     "execution_count": 162,
     "metadata": {},
     "output_type": "execute_result"
    }
   ],
   "source": [
    "s.str.findall('bla', flags=re.IGNORECASE)"
   ]
  },
  {
   "cell_type": "code",
   "execution_count": 163,
   "id": "9c497ac3-7ad7-4bd5-9f1d-94aa82e072aa",
   "metadata": {},
   "outputs": [
    {
     "data": {
      "text/plain": [
       "0    [bla]\n",
       "1    [BLA]\n",
       "2       []\n",
       "3    [bla]\n",
       "dtype: object"
      ]
     },
     "execution_count": 163,
     "metadata": {},
     "output_type": "execute_result"
    }
   ],
   "source": [
    "# search only the end, or start\n",
    "s.str.findall('bla$', flags=re.IGNORECASE) # endswith\n",
    "s.str.findall('^bla', flags=re.IGNORECASE) # startswith, but with flags:)"
   ]
  },
  {
   "cell_type": "code",
   "execution_count": null,
   "id": "75b06c86-fe32-4384-ad88-ef627cc8626b",
   "metadata": {},
   "outputs": [],
   "source": []
  },
  {
   "cell_type": "markdown",
   "id": "e41883a2-60ee-46c9-8928-fbbd573e7c8b",
   "metadata": {},
   "source": [
    "#### extract and extractall functions\n",
    "* require capture string in brackets eg: pat=r'(bla)'"
   ]
  },
  {
   "cell_type": "code",
   "execution_count": 172,
   "id": "c6ec7cb6-4838-41ae-89ea-1871d978c61d",
   "metadata": {},
   "outputs": [
    {
     "data": {
      "text/plain": [
       "0    bla\n",
       "1    BLA\n",
       "2    BLA\n",
       "3    bla\n",
       "dtype: object"
      ]
     },
     "execution_count": 172,
     "metadata": {},
     "output_type": "execute_result"
    }
   ],
   "source": [
    "s.str.extract(\n",
    "    pat=r'(bla)', \n",
    "    expand=False, \n",
    "    flags=re.IGNORECASE\n",
    ")"
   ]
  },
  {
   "cell_type": "code",
   "execution_count": 181,
   "id": "53b1c4ef-25d0-4638-ba16-b419f714c6a5",
   "metadata": {},
   "outputs": [
    {
     "data": {
      "text/html": [
       "<div>\n",
       "<style scoped>\n",
       "    .dataframe tbody tr th:only-of-type {\n",
       "        vertical-align: middle;\n",
       "    }\n",
       "\n",
       "    .dataframe tbody tr th {\n",
       "        vertical-align: top;\n",
       "    }\n",
       "\n",
       "    .dataframe thead th {\n",
       "        text-align: right;\n",
       "    }\n",
       "</style>\n",
       "<table border=\"1\" class=\"dataframe\">\n",
       "  <thead>\n",
       "    <tr style=\"text-align: right;\">\n",
       "      <th></th>\n",
       "      <th></th>\n",
       "      <th>0</th>\n",
       "    </tr>\n",
       "    <tr>\n",
       "      <th></th>\n",
       "      <th>match</th>\n",
       "      <th></th>\n",
       "    </tr>\n",
       "  </thead>\n",
       "  <tbody>\n",
       "    <tr>\n",
       "      <th>0</th>\n",
       "      <th>0</th>\n",
       "      <td>bla</td>\n",
       "    </tr>\n",
       "    <tr>\n",
       "      <th>1</th>\n",
       "      <th>0</th>\n",
       "      <td>BLA</td>\n",
       "    </tr>\n",
       "    <tr>\n",
       "      <th rowspan=\"2\" valign=\"top\">2</th>\n",
       "      <th>0</th>\n",
       "      <td>BLA</td>\n",
       "    </tr>\n",
       "    <tr>\n",
       "      <th>1</th>\n",
       "      <td>bla</td>\n",
       "    </tr>\n",
       "    <tr>\n",
       "      <th rowspan=\"3\" valign=\"top\">3</th>\n",
       "      <th>0</th>\n",
       "      <td>bla</td>\n",
       "    </tr>\n",
       "    <tr>\n",
       "      <th>1</th>\n",
       "      <td>bla</td>\n",
       "    </tr>\n",
       "    <tr>\n",
       "      <th>2</th>\n",
       "      <td>bla</td>\n",
       "    </tr>\n",
       "  </tbody>\n",
       "</table>\n",
       "</div>"
      ],
      "text/plain": [
       "           0\n",
       "  match     \n",
       "0 0      bla\n",
       "1 0      BLA\n",
       "2 0      BLA\n",
       "  1      bla\n",
       "3 0      bla\n",
       "  1      bla\n",
       "  2      bla"
      ]
     },
     "execution_count": 181,
     "metadata": {},
     "output_type": "execute_result"
    }
   ],
   "source": [
    "s.str.extractall(\n",
    "    pat=r'(bla)', \n",
    "    flags=re.IGNORECASE\n",
    ")# caution on mutiindex, "
   ]
  },
  {
   "cell_type": "markdown",
   "id": "8decca4c-f066-400f-bc22-f53c6a58e8e4",
   "metadata": {},
   "source": [
    "## SIZE/LENGHT TRANSFORMATIONS"
   ]
  },
  {
   "cell_type": "markdown",
   "id": "b6d99175-4010-42f0-a1b4-fe3c0e2609e7",
   "metadata": {},
   "source": [
    "![outliers_slide_01](images/Regex_and_String_Functions__Slide2.png)"
   ]
  },
  {
   "cell_type": "markdown",
   "id": "dd370b51-c631-43b0-983d-8432c7c3b1d6",
   "metadata": {},
   "source": [
    "#### (a) SLICE\n",
    "* __with idx__; [idx] or [from, to], \n",
    "* __str.slice__; (from, to)\n",
    "* __.str.get(one_idx_only)__; only one idx can e \n",
    "* Cooments:\n",
    "    * if we use from, to in any method, it returns, a sunstring, or its max lenght,\n",
    "    * if we use only one index nr: it will return NaN if that index exceeds the lenghts of a substring\n",
    "    * it works the ssame with all fucntions,\n"
   ]
  },
  {
   "cell_type": "code",
   "execution_count": 185,
   "id": "b49461c5-2536-42d6-9c75-239223c5cda0",
   "metadata": {},
   "outputs": [],
   "source": [
    "s = pd.Series(['bla', 'BLA', 'some random BLA and bla','blablabla', np.nan])"
   ]
  },
  {
   "cell_type": "code",
   "execution_count": 193,
   "id": "2989e7e2-89da-4beb-b5ac-7258479d9260",
   "metadata": {},
   "outputs": [
    {
     "data": {
      "text/plain": [
       "array([nan, nan, 'r', 'a', nan], dtype=object)"
      ]
     },
     "execution_count": 193,
     "metadata": {},
     "output_type": "execute_result"
    }
   ],
   "source": [
    "# slice with the index\n",
    "'''NaN for idx>len(str)'''\n",
    "s.str[5].values"
   ]
  },
  {
   "cell_type": "code",
   "execution_count": 194,
   "id": "66fbc4d3-34e5-4320-b8c5-20887825da6b",
   "metadata": {},
   "outputs": [
    {
     "data": {
      "text/plain": [
       "array(['bla', 'BLA', 'some random BLA and ', 'blablabla', nan],\n",
       "      dtype=object)"
      ]
     },
     "execution_count": 194,
     "metadata": {},
     "output_type": "execute_result"
    }
   ],
   "source": [
    "# slice from to, \n",
    "'''returns max char, availale not NaN, unles it was np.nan'''\n",
    "s.str[0:20].values\n",
    "s.str.slice(0,20).values # same as str[0:2]"
   ]
  },
  {
   "cell_type": "markdown",
   "id": "2398c8e5-e7d4-405b-801d-e3c57f7ac6e4",
   "metadata": {},
   "source": [
    "#### (b) get exact charater\n",
    "* __.str.get(one_idx_only)__; only one idx can e "
   ]
  },
  {
   "cell_type": "code",
   "execution_count": 202,
   "id": "54cdec23-965d-46c8-ba1a-e6bfda887bcc",
   "metadata": {},
   "outputs": [
    {
     "data": {
      "text/plain": [
       "array(['a', 'A', 'a', 'a', nan], dtype=object)"
      ]
     },
     "execution_count": 202,
     "metadata": {},
     "output_type": "execute_result"
    }
   ],
   "source": [
    "s.str.get(5).values\n",
    "s.str.get(-1).values"
   ]
  },
  {
   "cell_type": "markdown",
   "id": "719aa112-e8e8-4e8c-91b9-abd96a64f99a",
   "metadata": {},
   "source": [
    "#### (b) JOIN & CONCATENATE"
   ]
  },
  {
   "cell_type": "code",
   "execution_count": 203,
   "id": "acbc0e1e-8000-427a-aa42-49b0fbe092ee",
   "metadata": {},
   "outputs": [],
   "source": [
    "s1 = pd.Series([\"a\", \"b\", \"c\", np.nan])\n",
    "s2 = pd.Series([\"1\", \"2\", np.nan, \"4\"])"
   ]
  },
  {
   "cell_type": "code",
   "execution_count": 210,
   "id": "0af4bf63-91b1-4794-9cf4-55f3458f4055",
   "metadata": {},
   "outputs": [
    {
     "data": {
      "text/plain": [
       "'a;_b;_c;_...'"
      ]
     },
     "execution_count": 210,
     "metadata": {},
     "output_type": "execute_result"
    }
   ],
   "source": [
    "# join all elements of a series\n",
    "'''ie create one long substring'''\n",
    "s1.str.cat() # 'abc'\n",
    "s1.str.cat(sep=\";_\") # 'a;_b;_c'\n",
    "s1.str.cat(sep=\";_\", na_rep=\"...\") # 'a;_b;_c;_...'"
   ]
  },
  {
   "cell_type": "code",
   "execution_count": 214,
   "id": "40d090e9-b1f2-4ed9-9b7f-ef9d7d416096",
   "metadata": {},
   "outputs": [
    {
     "data": {
      "text/plain": [
       "0         a1\n",
       "1         b2\n",
       "2    c_blah_\n",
       "3    _blah_4\n",
       "dtype: object"
      ]
     },
     "execution_count": 214,
     "metadata": {},
     "output_type": "execute_result"
    }
   ],
   "source": [
    "# join items in two strings\n",
    "'''CAUTION: 1. they must have the same lenght & indexing\n",
    "            2. if na_rep is not used - it returns NaN, \n",
    "               for any joints with missing data\n",
    "'''\n",
    "s1.str.cat(s2, na_rep=\"_blah_\")"
   ]
  },
  {
   "cell_type": "markdown",
   "id": "9edc68f5-101b-414b-8006-483d430c5fa1",
   "metadata": {},
   "source": [
    "#### (c) join string with different lenghts and indexes\n",
    "* __.str.cat(join={'inner', 'outer', 'left', 'right'})__"
   ]
  },
  {
   "cell_type": "code",
   "execution_count": 223,
   "id": "7977b0f0-ac89-49f2-b955-d6c66e2fda14",
   "metadata": {},
   "outputs": [],
   "source": [
    "s1 = pd.Series([\"a\", \"b\", \"c\"])\n",
    "s2 = pd.Series([str(x) for x in list(range(1,5))], index=[1,2,6,7])"
   ]
  },
  {
   "cell_type": "code",
   "execution_count": 230,
   "id": "39a8ef6a-90ce-47fc-8a3e-6ca399f602ef",
   "metadata": {},
   "outputs": [
    {
     "data": {
      "text/plain": [
       "0    NaN\n",
       "1    b,1\n",
       "2    c,2\n",
       "dtype: object"
      ]
     },
     "execution_count": 230,
     "metadata": {},
     "output_type": "execute_result"
    }
   ],
   "source": [
    "# default\n",
    "'''join, as in left'''\n",
    "s1.str.cat(s2, sep=\",\")"
   ]
  },
  {
   "cell_type": "code",
   "execution_count": 225,
   "id": "69f39613-b79c-4218-ab5a-c1a56449db6a",
   "metadata": {},
   "outputs": [
    {
     "data": {
      "text/plain": [
       "0    a,----\n",
       "1       b,1\n",
       "2       c,2\n",
       "6    ----,3\n",
       "7    ----,4\n",
       "dtype: object"
      ]
     },
     "execution_count": 225,
     "metadata": {},
     "output_type": "execute_result"
    }
   ],
   "source": [
    "s1.str.cat(s2, join=\"outer\", na_rep=\"----\", sep=\",\")# use all avialbe indexes, "
   ]
  },
  {
   "cell_type": "code",
   "execution_count": 229,
   "id": "6d91824b-2759-420c-90e3-021509e3b48f",
   "metadata": {},
   "outputs": [
    {
     "data": {
      "text/plain": [
       "1       b,1\n",
       "2       c,2\n",
       "6    ----,3\n",
       "7    ----,4\n",
       "dtype: object"
      ]
     },
     "execution_count": 229,
     "metadata": {},
     "output_type": "execute_result"
    }
   ],
   "source": [
    "s1.str.cat(s2, join=\"inner\", na_rep=\"----\", sep=\",\")\n",
    "s1.str.cat(s2, join=\"left\", na_rep=\"----\", sep=\",\") # usee all from left, \n",
    "s1.str.cat(s2, join=\"right\", na_rep=\"----\", sep=\",\") # usee all from right, "
   ]
  },
  {
   "cell_type": "code",
   "execution_count": null,
   "id": "946c1e7c-186c-49f6-ad67-4fd7e7d7bc17",
   "metadata": {},
   "outputs": [],
   "source": []
  },
  {
   "cell_type": "markdown",
   "id": "504ca82a-b5c5-492d-8773-585b60593fa0",
   "metadata": {},
   "source": [
    "#### (d) Divide substrings - return 2 ITEMS - before, and after items"
   ]
  },
  {
   "cell_type": "code",
   "execution_count": 232,
   "id": "854bb2fa-c771-48b3-8637-1994c6a6543f",
   "metadata": {},
   "outputs": [],
   "source": [
    "s = pd.Series(['bla', 'some random BLA and bla','blablabla', np.nan])"
   ]
  },
  {
   "cell_type": "code",
   "execution_count": 233,
   "id": "09f887df-9b13-46c4-b2db-6b3f9906d99f",
   "metadata": {},
   "outputs": [
    {
     "data": {
      "text/html": [
       "<div>\n",
       "<style scoped>\n",
       "    .dataframe tbody tr th:only-of-type {\n",
       "        vertical-align: middle;\n",
       "    }\n",
       "\n",
       "    .dataframe tbody tr th {\n",
       "        vertical-align: top;\n",
       "    }\n",
       "\n",
       "    .dataframe thead th {\n",
       "        text-align: right;\n",
       "    }\n",
       "</style>\n",
       "<table border=\"1\" class=\"dataframe\">\n",
       "  <thead>\n",
       "    <tr style=\"text-align: right;\">\n",
       "      <th></th>\n",
       "      <th>0</th>\n",
       "      <th>1</th>\n",
       "      <th>2</th>\n",
       "      <th>3</th>\n",
       "      <th>4</th>\n",
       "    </tr>\n",
       "  </thead>\n",
       "  <tbody>\n",
       "    <tr>\n",
       "      <th>0</th>\n",
       "      <td>bla</td>\n",
       "      <td>None</td>\n",
       "      <td>None</td>\n",
       "      <td>None</td>\n",
       "      <td>None</td>\n",
       "    </tr>\n",
       "    <tr>\n",
       "      <th>1</th>\n",
       "      <td>some</td>\n",
       "      <td>random</td>\n",
       "      <td>BLA</td>\n",
       "      <td>and</td>\n",
       "      <td>bla</td>\n",
       "    </tr>\n",
       "    <tr>\n",
       "      <th>2</th>\n",
       "      <td>blablabla</td>\n",
       "      <td>None</td>\n",
       "      <td>None</td>\n",
       "      <td>None</td>\n",
       "      <td>None</td>\n",
       "    </tr>\n",
       "    <tr>\n",
       "      <th>3</th>\n",
       "      <td>NaN</td>\n",
       "      <td>NaN</td>\n",
       "      <td>NaN</td>\n",
       "      <td>NaN</td>\n",
       "      <td>NaN</td>\n",
       "    </tr>\n",
       "  </tbody>\n",
       "</table>\n",
       "</div>"
      ],
      "text/plain": [
       "           0       1     2     3     4\n",
       "0        bla    None  None  None  None\n",
       "1       some  random   BLA   and   bla\n",
       "2  blablabla    None  None  None  None\n",
       "3        NaN     NaN   NaN   NaN   NaN"
      ]
     },
     "execution_count": 233,
     "metadata": {},
     "output_type": "execute_result"
    }
   ],
   "source": [
    "# str.split - by default splits spaces\n",
    "s.str.split(expand=True)"
   ]
  },
  {
   "cell_type": "code",
   "execution_count": 240,
   "id": "30370937-bc77-4069-bf0f-4b9e56f9d3c7",
   "metadata": {},
   "outputs": [
    {
     "data": {
      "text/html": [
       "<div>\n",
       "<style scoped>\n",
       "    .dataframe tbody tr th:only-of-type {\n",
       "        vertical-align: middle;\n",
       "    }\n",
       "\n",
       "    .dataframe tbody tr th {\n",
       "        vertical-align: top;\n",
       "    }\n",
       "\n",
       "    .dataframe thead th {\n",
       "        text-align: right;\n",
       "    }\n",
       "</style>\n",
       "<table border=\"1\" class=\"dataframe\">\n",
       "  <thead>\n",
       "    <tr style=\"text-align: right;\">\n",
       "      <th></th>\n",
       "      <th>0</th>\n",
       "      <th>1</th>\n",
       "      <th>2</th>\n",
       "    </tr>\n",
       "  </thead>\n",
       "  <tbody>\n",
       "    <tr>\n",
       "      <th>0</th>\n",
       "      <td>b</td>\n",
       "      <td>a</td>\n",
       "      <td>None</td>\n",
       "    </tr>\n",
       "    <tr>\n",
       "      <th>1</th>\n",
       "      <td>some random BLA and b</td>\n",
       "      <td>a</td>\n",
       "      <td>None</td>\n",
       "    </tr>\n",
       "    <tr>\n",
       "      <th>2</th>\n",
       "      <td>b</td>\n",
       "      <td>ab</td>\n",
       "      <td>abla</td>\n",
       "    </tr>\n",
       "    <tr>\n",
       "      <th>3</th>\n",
       "      <td>NaN</td>\n",
       "      <td>NaN</td>\n",
       "      <td>NaN</td>\n",
       "    </tr>\n",
       "  </tbody>\n",
       "</table>\n",
       "</div>"
      ],
      "text/plain": [
       "                       0    1     2\n",
       "0                      b    a  None\n",
       "1  some random BLA and b    a  None\n",
       "2                      b   ab  abla\n",
       "3                    NaN  NaN   NaN"
      ]
     },
     "execution_count": 240,
     "metadata": {},
     "output_type": "execute_result"
    }
   ],
   "source": [
    "# str.split - by default splits spaces\n",
    "'''no flags, \n",
    "   Caution, n+1 for max splits, its index nr!\n",
    "'''\n",
    "s.str.split(\n",
    "    pat=\"l\",\n",
    "    n=2, # max nr of splits, +1, because uts index nr. not lenght\n",
    "    expand=True)"
   ]
  },
  {
   "cell_type": "markdown",
   "id": "0f2196bf-a1c4-44e1-a0ac-5dd8ef737270",
   "metadata": {},
   "source": [
    "#### (e) Divide substrings - return 3 ITEMS"
   ]
  },
  {
   "cell_type": "code",
   "execution_count": 241,
   "id": "244fe566-7b40-478c-af56-8ed7a29ee276",
   "metadata": {},
   "outputs": [],
   "source": [
    "s = pd.Series(['bla', 'some random BLA and bla','blablabla', np.nan])"
   ]
  },
  {
   "cell_type": "code",
   "execution_count": 245,
   "id": "0eede913-7192-4361-a63f-e8ca5f805595",
   "metadata": {},
   "outputs": [
    {
     "data": {
      "text/html": [
       "<div>\n",
       "<style scoped>\n",
       "    .dataframe tbody tr th:only-of-type {\n",
       "        vertical-align: middle;\n",
       "    }\n",
       "\n",
       "    .dataframe tbody tr th {\n",
       "        vertical-align: top;\n",
       "    }\n",
       "\n",
       "    .dataframe thead th {\n",
       "        text-align: right;\n",
       "    }\n",
       "</style>\n",
       "<table border=\"1\" class=\"dataframe\">\n",
       "  <thead>\n",
       "    <tr style=\"text-align: right;\">\n",
       "      <th></th>\n",
       "      <th>0</th>\n",
       "      <th>1</th>\n",
       "      <th>2</th>\n",
       "    </tr>\n",
       "  </thead>\n",
       "  <tbody>\n",
       "    <tr>\n",
       "      <th>0</th>\n",
       "      <td>b</td>\n",
       "      <td>l</td>\n",
       "      <td>a</td>\n",
       "    </tr>\n",
       "    <tr>\n",
       "      <th>1</th>\n",
       "      <td>some random BLA and b</td>\n",
       "      <td>l</td>\n",
       "      <td>a</td>\n",
       "    </tr>\n",
       "    <tr>\n",
       "      <th>2</th>\n",
       "      <td>b</td>\n",
       "      <td>l</td>\n",
       "      <td>ablabla</td>\n",
       "    </tr>\n",
       "    <tr>\n",
       "      <th>3</th>\n",
       "      <td>NaN</td>\n",
       "      <td>NaN</td>\n",
       "      <td>NaN</td>\n",
       "    </tr>\n",
       "  </tbody>\n",
       "</table>\n",
       "</div>"
      ],
      "text/plain": [
       "                       0    1        2\n",
       "0                      b    l        a\n",
       "1  some random BLA and b    l        a\n",
       "2                      b    l  ablabla\n",
       "3                    NaN  NaN      NaN"
      ]
     },
     "execution_count": 245,
     "metadata": {},
     "output_type": "execute_result"
    }
   ],
   "source": [
    "# split on the FIRTS pattern occcurence\n",
    "s.str.partition(\"l\", expand=True)"
   ]
  },
  {
   "cell_type": "code",
   "execution_count": 246,
   "id": "df920f27-65b0-4089-a7a7-e462678ebec8",
   "metadata": {},
   "outputs": [
    {
     "data": {
      "text/html": [
       "<div>\n",
       "<style scoped>\n",
       "    .dataframe tbody tr th:only-of-type {\n",
       "        vertical-align: middle;\n",
       "    }\n",
       "\n",
       "    .dataframe tbody tr th {\n",
       "        vertical-align: top;\n",
       "    }\n",
       "\n",
       "    .dataframe thead th {\n",
       "        text-align: right;\n",
       "    }\n",
       "</style>\n",
       "<table border=\"1\" class=\"dataframe\">\n",
       "  <thead>\n",
       "    <tr style=\"text-align: right;\">\n",
       "      <th></th>\n",
       "      <th>0</th>\n",
       "      <th>1</th>\n",
       "      <th>2</th>\n",
       "    </tr>\n",
       "  </thead>\n",
       "  <tbody>\n",
       "    <tr>\n",
       "      <th>0</th>\n",
       "      <td>b</td>\n",
       "      <td>l</td>\n",
       "      <td>a</td>\n",
       "    </tr>\n",
       "    <tr>\n",
       "      <th>1</th>\n",
       "      <td>some random BLA and b</td>\n",
       "      <td>l</td>\n",
       "      <td>a</td>\n",
       "    </tr>\n",
       "    <tr>\n",
       "      <th>2</th>\n",
       "      <td>blablab</td>\n",
       "      <td>l</td>\n",
       "      <td>a</td>\n",
       "    </tr>\n",
       "    <tr>\n",
       "      <th>3</th>\n",
       "      <td>NaN</td>\n",
       "      <td>NaN</td>\n",
       "      <td>NaN</td>\n",
       "    </tr>\n",
       "  </tbody>\n",
       "</table>\n",
       "</div>"
      ],
      "text/plain": [
       "                       0    1    2\n",
       "0                      b    l    a\n",
       "1  some random BLA and b    l    a\n",
       "2                blablab    l    a\n",
       "3                    NaN  NaN  NaN"
      ]
     },
     "execution_count": 246,
     "metadata": {},
     "output_type": "execute_result"
    }
   ],
   "source": [
    "# split on the LAST pattern occcurence\n",
    "s.str.rpartition(\"l\", expand=True)"
   ]
  },
  {
   "cell_type": "code",
   "execution_count": null,
   "id": "cad714a9-cb6d-477b-b8bc-ab847f73d8b9",
   "metadata": {},
   "outputs": [],
   "source": []
  },
  {
   "cell_type": "code",
   "execution_count": null,
   "id": "9455b431-0b65-4ff2-8f1f-d6d4ca63f5e0",
   "metadata": {},
   "outputs": [],
   "source": []
  },
  {
   "cell_type": "code",
   "execution_count": null,
   "id": "879fce92-0c0b-45f1-b23a-ad7d86c9ec81",
   "metadata": {},
   "outputs": [],
   "source": []
  },
  {
   "cell_type": "code",
   "execution_count": null,
   "id": "fda5ff10-d6d1-48d3-884e-e9d4e7c39797",
   "metadata": {},
   "outputs": [],
   "source": []
  },
  {
   "cell_type": "code",
   "execution_count": null,
   "id": "07b9cc7e-d5c6-44f3-bafd-605d310bf6b7",
   "metadata": {},
   "outputs": [],
   "source": []
  },
  {
   "cell_type": "code",
   "execution_count": null,
   "id": "21aa526a-2451-4cf6-b2c5-242019cd20b1",
   "metadata": {},
   "outputs": [],
   "source": [
    "#### |, &   - OR , AND\n",
    "s=pd.Series(['0', 'John Wood', 'Colin Welsh', 'my list', '02456', np.nan, 'HELLO WORLD', 'water%'])\n",
    "s.str.contains('John') | s.str.contains('Colin') # or\n",
    "s.str.contains('John|Colin').values # same results\n",
    "        # array([False, True, True, False, False, nan, False, False], dtype=object)\n",
    "\n",
    "\n",
    "    "
   ]
  },
  {
   "cell_type": "markdown",
   "id": "d84a3e3b-1414-4b64-8c8a-4c26465566d8",
   "metadata": {},
   "source": [
    "![outliers_slide_01](images/Regex_and_String_Functions__Slide3.png)"
   ]
  },
  {
   "cell_type": "markdown",
   "id": "245070c1-99aa-4a35-a84a-93f46c08710a",
   "metadata": {},
   "source": [
    "![outliers_slide_01](images/Regex_and_String_Functions__Slide5.png)"
   ]
  }
 ],
 "metadata": {
  "kernelspec": {
   "display_name": "Python 3",
   "language": "python",
   "name": "python3"
  },
  "language_info": {
   "codemirror_mode": {
    "name": "ipython",
    "version": 3
   },
   "file_extension": ".py",
   "mimetype": "text/x-python",
   "name": "python",
   "nbconvert_exporter": "python",
   "pygments_lexer": "ipython3",
   "version": "3.7.10"
  }
 },
 "nbformat": 4,
 "nbformat_minor": 5
}
