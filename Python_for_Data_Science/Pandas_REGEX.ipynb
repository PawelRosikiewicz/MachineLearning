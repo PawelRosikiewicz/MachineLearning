{
 "cells": [
  {
   "cell_type": "markdown",
   "id": "f49e99b6-3021-4353-844e-81737547c819",
   "metadata": {},
   "source": [
    "---\n",
    "# Pandas String Funcitons\n",
    "Pandas String Funcitons, Regex functions, and working with text\n",
    "\n",
    "---\n",
    "\n",
    "Code examples on the most frequently used functions - Collected, Created and Edited by Pawel Rosikiewicz www.SimpleAI.ch"
   ]
  },
  {
   "cell_type": "markdown",
   "id": "4a96ec49-1faa-45ef-88d0-0391ed491b8e",
   "metadata": {},
   "source": [
    "---\n",
    "## __Pandas String Funcitons__\n",
    "---\n",
    "\n",
    "### __MOST IMPORTNAT LINK (all pandas str functions!) are here__     \n",
    "https://pandas.pydata.org/pandas-docs/stable/user_guide/text.html\n",
    "\n",
    "### __What so special in text data?__\n",
    "* often messy\n",
    "* usually not in a standardized format ready for analysis\n",
    "* more difficult to make solid conclusions, or plot,\n",
    "\n",
    "### __String functions in pandas vs built-in string functions__\n",
    "* examples of built-in string functions are in Python_data_structures notebook\n",
    "* Python's string functions are for individual string objects\n",
    "* Pandas functions are for Series and DataFrames\n",
    "\n",
    "### __Pandas string funcitons__\n",
    "* str attribute    \n",
    "* names matching the corresponding build-in string functions         "
   ]
  },
  {
   "cell_type": "code",
   "execution_count": 2,
   "id": "c8f69996-a749-4c4d-bbac-af354fbfbb52",
   "metadata": {},
   "outputs": [],
   "source": [
    "import numpy as np\n",
    "import pandas as pd"
   ]
  },
  {
   "cell_type": "markdown",
   "id": "a2eef611-35be-472f-954b-ba781f50346e",
   "metadata": {},
   "source": [
    "![outliers_slide_01](images/Regex_and_String_Functions__Slide1.png)"
   ]
  },
  {
   "cell_type": "code",
   "execution_count": null,
   "id": "38ae2fb8-f403-4b6a-9dd8-bd1c311f34d6",
   "metadata": {},
   "outputs": [],
   "source": []
  },
  {
   "cell_type": "code",
   "execution_count": null,
   "id": "21aa526a-2451-4cf6-b2c5-242019cd20b1",
   "metadata": {},
   "outputs": [],
   "source": [
    "#### |, &   - OR , AND\n",
    "s=pd.Series(['0', 'John Wood', 'Colin Welsh', 'my list', '02456', np.nan, 'HELLO WORLD', 'water%'])\n",
    "s.str.contains('John') | s.str.contains('Colin') # or\n",
    "s.str.contains('John|Colin').values # same results\n",
    "        # array([False, True, True, False, False, nan, False, False], dtype=object)\n",
    "\n",
    "\n",
    "    "
   ]
  },
  {
   "cell_type": "markdown",
   "id": "b6d99175-4010-42f0-a1b4-fe3c0e2609e7",
   "metadata": {},
   "source": [
    "![outliers_slide_01](images/Regex_and_String_Functions__Slide2.png)"
   ]
  },
  {
   "cell_type": "markdown",
   "id": "d84a3e3b-1414-4b64-8c8a-4c26465566d8",
   "metadata": {},
   "source": [
    "![outliers_slide_01](images/Regex_and_String_Functions__Slide3.png)"
   ]
  },
  {
   "cell_type": "markdown",
   "id": "25f19c89-2ceb-4efa-a72b-8fd14cb7500c",
   "metadata": {},
   "source": [
    "![outliers_slide_01](images/Regex_and_String_Functions__Slide4.png)"
   ]
  },
  {
   "cell_type": "markdown",
   "id": "245070c1-99aa-4a35-a84a-93f46c08710a",
   "metadata": {},
   "source": [
    "![outliers_slide_01](images/Regex_and_String_Functions__Slide5.png)"
   ]
  }
 ],
 "metadata": {
  "kernelspec": {
   "display_name": "Python 3",
   "language": "python",
   "name": "python3"
  },
  "language_info": {
   "codemirror_mode": {
    "name": "ipython",
    "version": 3
   },
   "file_extension": ".py",
   "mimetype": "text/x-python",
   "name": "python",
   "nbconvert_exporter": "python",
   "pygments_lexer": "ipython3",
   "version": "3.7.10"
  }
 },
 "nbformat": 4,
 "nbformat_minor": 5
}
