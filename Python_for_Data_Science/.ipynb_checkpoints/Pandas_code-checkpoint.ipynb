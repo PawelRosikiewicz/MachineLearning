{
 "cells": [
  {
   "cell_type": "markdown",
   "id": "40510c1e-3845-44a3-b632-90ab1f802cfc",
   "metadata": {},
   "source": [
    "# Pandas\n",
    "---\n",
    "\n",
    "## code examples on the most frequently used functions\n",
    "\n",
    "Collected, Created and Edited by __Pawel Rosikiewicz__ www.SimpleAI.ch"
   ]
  },
  {
   "cell_type": "code",
   "execution_count": 3,
   "id": "a5f76bd1-754f-4deb-8779-0a657a349aab",
   "metadata": {},
   "outputs": [],
   "source": [
    "import os\n",
    "import random\n",
    "import pandas as pd\n",
    "import numpy as np\n",
    "import matplotlib.pyplot as plt\n",
    "import seaborn as sns"
   ]
  },
  {
   "cell_type": "markdown",
   "id": "4179a2c2-e88f-4e0b-be94-380b509f210f",
   "metadata": {},
   "source": [
    "## Pandas Series & DataFrame\n",
    "https://pandas.pydata.org/pandas-docs/stable/reference/frame.html\n",
    "\n",
    "* __Series__;    \n",
    "    * one-dimensional labeled array; \n",
    "    * A series is like a DataFrame with a single column.\n",
    "* __DataFrame__;    \t\n",
    "    * a two-dimensional and labeled array, \n",
    "    * Columns can store different dtypes\n",
    "    * __Dimensions__; the number of axes, that are labeled starting at 0.\n",
    "    * __rows__;axis 0; represent the data points, by convention\n",
    "    * __columns__; axis 1; represent the variables, -||-\n",
    "    * __Column names__; bold names on the top \n",
    "    * __Index labels__; bold nr’s, from 0 to 9 on the left side, for rows only\n",
    "    * __Data__; everything else inside the cells \n",
    "    * __Cell__; place set with one row and one column\n",
    "\n"
   ]
  },
  {
   "cell_type": "code",
   "execution_count": null,
   "id": "94bab1eb-424c-4cf4-95dc-59b7cacdf2fb",
   "metadata": {},
   "outputs": [],
   "source": []
  },
  {
   "cell_type": "markdown",
   "id": "b597af58-c39a-4924-a8c8-497c8d80d4f0",
   "metadata": {},
   "source": [
    "### pd.Series\n",
    "---\n",
    "* most fucntion works for data frame too, so I am presenting them once here,\n",
    "* we use s.dtype instead of df.dtypes()\n",
    "* df.info() doenst work for series, "
   ]
  },
  {
   "cell_type": "markdown",
   "id": "9e4c72a1-425a-4abf-a187-a6d94c8031bb",
   "metadata": {},
   "source": [
    "#### Create new Series\n",
    "* typically, created from the list\n",
    "* it contains only one dtype, \n",
    "* but, you can store different dtypes form the list in one pd.Series, using \"object\" dtype in that series, \n",
    "* __index__: additional co, visible on the left, Starts at 0!"
   ]
  },
  {
   "cell_type": "code",
   "execution_count": 51,
   "id": "bc10fd3d-4639-4598-8803-fc3ec3913cc7",
   "metadata": {},
   "outputs": [],
   "source": [
    "s = pd.Series([\"a\", \"b\", \"c\"], index=[\"first\", \"second\", \"third\"]) \n",
    "s2 = s.copy() # obj, with new id( )"
   ]
  },
  {
   "cell_type": "markdown",
   "id": "80af15f6-3044-46f2-a648-a3348e85ada6",
   "metadata": {},
   "source": [
    "#### inspect pd.Series"
   ]
  },
  {
   "cell_type": "code",
   "execution_count": 46,
   "id": "94fb4524-0e3a-4795-9e19-640f84b714b5",
   "metadata": {},
   "outputs": [
    {
     "data": {
      "text/plain": [
       "count     3\n",
       "unique    3\n",
       "top       a\n",
       "freq      1\n",
       "dtype: object"
      ]
     },
     "execution_count": 46,
     "metadata": {},
     "output_type": "execute_result"
    }
   ],
   "source": [
    "# dimensions\n",
    "s.shape # (3,)\n",
    "s.size # 3\n",
    "s.ndim # 1\n",
    "\n",
    "# object \n",
    "type(s) # pandas.core.series.Series\n",
    "\n",
    "# examples\n",
    "s.head()\n",
    "s.tail()\n",
    "\n",
    "# summary\n",
    "s.dtype  # no Brackets!, '0' - object dtype\n",
    "s.describe()"
   ]
  },
  {
   "cell_type": "markdown",
   "id": "f33562e9-8927-4eb1-83c1-ede7b46a7057",
   "metadata": {},
   "source": [
    "#### get values\n",
    "* Caution! if you use non-existed key value form the index, it returns, KeyError"
   ]
  },
  {
   "cell_type": "code",
   "execution_count": 19,
   "id": "e5f24815-8e62-4192-9134-c3c49abae224",
   "metadata": {},
   "outputs": [
    {
     "data": {
      "text/plain": [
       "first     a\n",
       "second    b\n",
       "dtype: object"
      ]
     },
     "execution_count": 19,
     "metadata": {},
     "output_type": "execute_result"
    }
   ],
   "source": [
    "# idx\n",
    "s[0] # index 0\n",
    "s.iloc[0] # index 0\n",
    "\n",
    "# index value\n",
    "s['first'] # it may cause problems, if that is \n",
    "s.loc['first'] # with loc, you must use the name\n",
    "s['first']\n",
    "\n",
    "# utiple values can be get\n",
    "s[['first', 'second']] # return a miniseries"
   ]
  },
  {
   "cell_type": "markdown",
   "id": "53f83204-bab7-4189-98a8-e458c85b341e",
   "metadata": {},
   "source": [
    "### pd.DataFrame\n",
    "---\n",
    "\n",
    "* __important to know when working with df__\n",
    "    * __df indexing\tfor rows__; \n",
    "        * data points are automatically indexed, starting from 0, \n",
    "        * one of the columns in df can be set as new index using __df.set_index(“column_name”)__ method\n",
    "\n",
    "    * __Copy vs innplace__\n",
    "        * important to know whether a given method introduce changes in a modified obj, or it creates a new object. \n",
    "        * Most of pandas methods returns a copy, \n",
    "        * thus you must eaither use __inplace = True__ or __df = df.modiffication()__ to save changes in an original obj.\n",
    "        * Inplace = True, ensures that the original object will be modified, but it is not implemented in all methods\n",
    "\n",
    "    * __.copy( )__\t\n",
    "        * ensures that new obj will be created,  not in all methods\n",
    "\n",
    "    * __na_values=[“char”]__;  \n",
    "        * Pandas will automatically recognize and parse common missing data indicators, suchn as NA, empty fields. \n",
    "        * For other types of missing data use np.nan (special float dtype from numpy) \n",
    "        * eg: __df = pd.read_csv('file_name.csv', na_values=['?'])__\n"
   ]
  },
  {
   "cell_type": "markdown",
   "id": "ac0d0b5c-df50-4fab-b8fb-ac843bc4e410",
   "metadata": {},
   "source": [
    "#### create new data frame"
   ]
  },
  {
   "cell_type": "code",
   "execution_count": 74,
   "id": "af1bf4fc-c5da-4ce7-8e70-473773f644ef",
   "metadata": {},
   "outputs": [
    {
     "data": {
      "text/html": [
       "<div>\n",
       "<style scoped>\n",
       "    .dataframe tbody tr th:only-of-type {\n",
       "        vertical-align: middle;\n",
       "    }\n",
       "\n",
       "    .dataframe tbody tr th {\n",
       "        vertical-align: top;\n",
       "    }\n",
       "\n",
       "    .dataframe thead th {\n",
       "        text-align: right;\n",
       "    }\n",
       "</style>\n",
       "<table border=\"1\" class=\"dataframe\">\n",
       "  <thead>\n",
       "    <tr style=\"text-align: right;\">\n",
       "      <th></th>\n",
       "      <th>A</th>\n",
       "      <th>B</th>\n",
       "    </tr>\n",
       "  </thead>\n",
       "  <tbody>\n",
       "    <tr>\n",
       "      <th>0</th>\n",
       "      <td>NaN</td>\n",
       "      <td>NaN</td>\n",
       "    </tr>\n",
       "    <tr>\n",
       "      <th>1</th>\n",
       "      <td>NaN</td>\n",
       "      <td>NaN</td>\n",
       "    </tr>\n",
       "  </tbody>\n",
       "</table>\n",
       "</div>"
      ],
      "text/plain": [
       "    A   B\n",
       "0 NaN NaN\n",
       "1 NaN NaN"
      ]
     },
     "execution_count": 74,
     "metadata": {},
     "output_type": "execute_result"
    }
   ],
   "source": [
    "# empty df\n",
    "''' you provide no data\n",
    "    it has only col names, indexes and dtype, no data''';\n",
    "pd.DataFrame( \n",
    "    index = range( 0 , 2 ), \n",
    "    columns = [ 'A' , 'B' ], \n",
    "    dtype = 'float'\n",
    ")"
   ]
  },
  {
   "cell_type": "code",
   "execution_count": 76,
   "id": "fe11b027-0641-4516-b687-f39acc768da5",
   "metadata": {},
   "outputs": [
    {
     "data": {
      "text/html": [
       "<div>\n",
       "<style scoped>\n",
       "    .dataframe tbody tr th:only-of-type {\n",
       "        vertical-align: middle;\n",
       "    }\n",
       "\n",
       "    .dataframe tbody tr th {\n",
       "        vertical-align: top;\n",
       "    }\n",
       "\n",
       "    .dataframe thead th {\n",
       "        text-align: right;\n",
       "    }\n",
       "</style>\n",
       "<table border=\"1\" class=\"dataframe\">\n",
       "  <thead>\n",
       "    <tr style=\"text-align: right;\">\n",
       "      <th></th>\n",
       "      <th>A</th>\n",
       "      <th>B</th>\n",
       "    </tr>\n",
       "  </thead>\n",
       "  <tbody>\n",
       "    <tr>\n",
       "      <th>0</th>\n",
       "      <td>NaN</td>\n",
       "      <td>NaN</td>\n",
       "    </tr>\n",
       "    <tr>\n",
       "      <th>1</th>\n",
       "      <td>NaN</td>\n",
       "      <td>NaN</td>\n",
       "    </tr>\n",
       "  </tbody>\n",
       "</table>\n",
       "</div>"
      ],
      "text/plain": [
       "    A   B\n",
       "0 NaN NaN\n",
       "1 NaN NaN"
      ]
     },
     "execution_count": 76,
     "metadata": {},
     "output_type": "execute_result"
    }
   ],
   "source": [
    "# df filled with one value\n",
    "''' it can be any numeric item, but not a string \n",
    "    eg: you may use np.nan because it is a float. \n",
    "    pd.DataFrame(np.nan, index=[0,1], columns=['A', “B”])'''\n",
    "pd.DataFrame( \n",
    "    np.nan,\n",
    "    index = range( 0 , 2 ), \n",
    "    columns = [ 'A' , 'B' ]\n",
    ")"
   ]
  },
  {
   "cell_type": "code",
   "execution_count": 81,
   "id": "26e5247a-299a-4f15-b154-60d823300137",
   "metadata": {},
   "outputs": [
    {
     "data": {
      "text/html": [
       "<div>\n",
       "<style scoped>\n",
       "    .dataframe tbody tr th:only-of-type {\n",
       "        vertical-align: middle;\n",
       "    }\n",
       "\n",
       "    .dataframe tbody tr th {\n",
       "        vertical-align: top;\n",
       "    }\n",
       "\n",
       "    .dataframe thead th {\n",
       "        text-align: right;\n",
       "    }\n",
       "</style>\n",
       "<table border=\"1\" class=\"dataframe\">\n",
       "  <thead>\n",
       "    <tr style=\"text-align: right;\">\n",
       "      <th></th>\n",
       "      <th>col1</th>\n",
       "      <th>col2</th>\n",
       "      <th>col3</th>\n",
       "    </tr>\n",
       "  </thead>\n",
       "  <tbody>\n",
       "    <tr>\n",
       "      <th>row1</th>\n",
       "      <td>0</td>\n",
       "      <td>1</td>\n",
       "      <td>2</td>\n",
       "    </tr>\n",
       "    <tr>\n",
       "      <th>row2</th>\n",
       "      <td>3</td>\n",
       "      <td>4</td>\n",
       "      <td>5</td>\n",
       "    </tr>\n",
       "    <tr>\n",
       "      <th>row3</th>\n",
       "      <td>6</td>\n",
       "      <td>7</td>\n",
       "      <td>8</td>\n",
       "    </tr>\n",
       "  </tbody>\n",
       "</table>\n",
       "</div>"
      ],
      "text/plain": [
       "      col1  col2  col3\n",
       "row1     0     1     2\n",
       "row2     3     4     5\n",
       "row3     6     7     8"
      ]
     },
     "execution_count": 81,
     "metadata": {},
     "output_type": "execute_result"
    }
   ],
   "source": [
    "# with dictionary,\n",
    "'''keys used as column names'''\n",
    "df=pd.DataFrame({\n",
    "    \"col1\":[1,2,3],\n",
    "    \"col2\":['a', 'b', 'c'],\n",
    "    \"col3\":['first', 'second', 'third']\n",
    "    }, index=['row1', 'row2', 'row3']\n",
    ")\n",
    "\n",
    "\n",
    "# provided as rows, \n",
    "'''one row == one embded list'''\n",
    "df=pd.DataFrame(\n",
    "    [[1, 'a', 'first'], [2, 'b', 'second'], [3, 'c', 'third']],\n",
    "    columns=['col1', 'col2', 'col3'],\n",
    "    index=['row1', 'row2', 'row3']\n",
    ")\n",
    "\n",
    "\n",
    "# from list with dictionary with colnames as keys\n",
    "'''often used in for-loops to collect results'''\n",
    "lst=[]\n",
    "for i in range(3):\n",
    "    lst.append({'col1':i, 'col2':i+10})\n",
    "df = pd.DataFrame(lst)\n",
    "\n",
    "\n",
    "# from numpy array\n",
    "df=pd.DataFrame(\n",
    "    np.arange(9).reshape(3,3),\n",
    "    columns=['col1', 'col2', 'col3'],\n",
    "    index=['row1', 'row2', 'row3']\n",
    ")\n",
    "df"
   ]
  },
  {
   "cell_type": "markdown",
   "id": "8581a723-629a-4943-b98d-3a29dd7e6605",
   "metadata": {},
   "source": [
    "#### Load data from file to pd.DataFrame"
   ]
  }
 ],
 "metadata": {
  "kernelspec": {
   "display_name": "Python 3",
   "language": "python",
   "name": "python3"
  },
  "language_info": {
   "codemirror_mode": {
    "name": "ipython",
    "version": 3
   },
   "file_extension": ".py",
   "mimetype": "text/x-python",
   "name": "python",
   "nbconvert_exporter": "python",
   "pygments_lexer": "ipython3",
   "version": "3.7.10"
  }
 },
 "nbformat": 4,
 "nbformat_minor": 5
}
