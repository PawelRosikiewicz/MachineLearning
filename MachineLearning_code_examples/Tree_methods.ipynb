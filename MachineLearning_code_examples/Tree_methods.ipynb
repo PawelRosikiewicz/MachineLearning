{
 "cells": [
  {
   "cell_type": "markdown",
   "id": "caff4059-0d60-4291-b8ec-7d4661ac4d3e",
   "metadata": {},
   "source": [
    "# DECISION TREES\n",
    "notes and code examples created or collected by Pawel Rosikiewicz, __www.SimpleAI.ch__   \n",
    "part of the text in that text copied from great text of __Nagesh Singh Chauhan__ - link in sourses. Thank you Nagesh.\n",
    "\n",
    "## CONTENT\n",
    "* __Decision trees__\n",
    "    * theory, \n",
    "    * sklearn obejcts,\n",
    "        * DecisionTreeClassifier\n",
    "    * tree vizulalization\n",
    "        * Graphiz package, \n",
    "        * using pandas for better intepretation,\n",
    "        \n",
    "* __sources__\n",
    "    * realy good article on decision trees wiht example in python, sklearn by __Nagesh Singh Chauhan__ https://www.kdnuggets.com/2020/01/decision-tree-algorithm-explained.html - I copied some part of text from his artickle, if you want more info, please chek directly in his work.\n",
    "\n",
    "        "
   ]
  },
  {
   "cell_type": "markdown",
   "id": "e8099a37-2f9e-413f-9992-36098c312762",
   "metadata": {},
   "source": [
    "## MODEL ASSUMPTIONS\n",
    "---\n",
    "1. the whole training set is considered as the root.\n",
    "2. Feature values need to be categorical. If the values are continuous then they are discretized prior to building the model.\n",
    "3. Records are distributed recursively on the basis of attribute values.\n",
    "4. Order to placing attributes as root or internal node of the tree is done by using some statistical approach.\n",
    "\n",
    "from: https://www.kaggle.com/code/prashant111/decision-tree-classifier-tutorial/notebook"
   ]
  },
  {
   "cell_type": "markdown",
   "id": "91f5be51-c159-4f45-ad64-b9948c72cbb7",
   "metadata": {},
   "source": [
    "![outliers_slide_01](images/DT_slide01.jpeg)"
   ]
  },
  {
   "cell_type": "markdown",
   "id": "bcbfdb5e-b4e8-4026-ae39-8751dd91f5d4",
   "metadata": {},
   "source": [
    "## Prunning\n",
    "copied from: https://www.kaggle.com/code/prashant111/decision-tree-classifier-tutorial/notebook\n",
    "\n",
    "__Overfitting__ is a practical problem while building a Decision-Tree model. The problem of overfitting is considered when the algorithm continues to go deeper and deeper to reduce the training-set error but results with an increased test-set error. So, accuracy of prediction for our model goes down. It generally happens when we build many branches due to outliers and irregularities in data.\n",
    "\n",
    "Two approaches which can be used to avoid overfitting are as follows:-\n",
    "\n",
    "* __Pre-Pruning__\n",
    "    * In pre-pruning, we stop the tree construction a bit early. \n",
    "    * We prefer not to split a node if its goodness measure is below a threshold value. \n",
    "    * it is difficult to choose an appropriate stopping point.\n",
    "\n",
    "* __Post-Pruning__\n",
    "    * In post-pruning, we go deeper and deeper in the tree to build a complete tree. \n",
    "    * If the tree shows the overfitting problem then pruning is done as a post-pruning step. \n",
    "    * We use the __cross-validation data__ to check the effect of our pruning. \n",
    "        * Using cross-validation data, we test whether expanding a node will result in improve or not. \n",
    "        * If it shows an improvement, then we can continue by expanding that node. But if it shows a reduction in accuracy then it should not be expanded. So, the node should be converted to a leaf node."
   ]
  },
  {
   "cell_type": "markdown",
   "id": "20d80ca4-e2b4-4028-aff5-511661d6e3c9",
   "metadata": {},
   "source": [
    "## __Decision trees - Protential problmes, and solutions__ \n",
    "___\n",
    "\n",
    "### __Imbalanced classes, (class Imbalance problem)__\n",
    "* also present when using k-NN\n",
    "* Issue: the tree classifier will optimize toward most frequent class in target variable, \n",
    "* __Solutions:__     \n",
    "    * remove some examples from the most frequent class, \n",
    "    * modify objective function of a classifier/cost function \n",
    "        * eg. add weights to less frequent/underrepresented class/es\n",
    "        * class_weight - it is a parameter in skleanr DecisionTreeClassifier, you need to set it to {balanced}\n",
    "        \n",
    "        \n",
    "### __avoiding overfitting__  \n",
    "* __Prunning__\n",
    "* __apply random forest__, an ensemble method based onn decision trees, \n",
    "\n",
    "\n",
    "\n",
    "    \n",
    "    \n",
    "    \n",
    "    "
   ]
  },
  {
   "cell_type": "markdown",
   "id": "bcccacf0-6e08-4d84-8e25-7abb696b156b",
   "metadata": {},
   "source": [
    "![outliers_slide_01](images/DT_slide02.jpeg)"
   ]
  },
  {
   "cell_type": "code",
   "execution_count": null,
   "id": "acbcdacd-2099-4b00-a745-99ebd895fd79",
   "metadata": {},
   "outputs": [],
   "source": []
  },
  {
   "cell_type": "markdown",
   "id": "4a01f4bf-72f8-48ee-bdcb-7c7ebaa7c8fe",
   "metadata": {},
   "source": [
    "## Sklearn implementation\n",
    "---"
   ]
  },
  {
   "cell_type": "markdown",
   "id": "c223863f-66ec-4172-ba57-c92d0ef950b9",
   "metadata": {},
   "source": [
    "general imports"
   ]
  },
  {
   "cell_type": "code",
   "execution_count": 1,
   "id": "6485c8c2-9c38-469d-ae06-a815bbaac8a3",
   "metadata": {},
   "outputs": [],
   "source": [
    "import matplotlib.pyplot as plt # for making plots, \n",
    "import matplotlib as mpl # to get some basif functions, heping with plot mnaking\n",
    "import numpy as np # support for multi-dimensional arrays and matrices\n",
    "import pandas as pd # library for data manipulation and analysis\n",
    "import random # functions that use and generate random numbers\n",
    "import glob # lists names in folders that match Unix shell patterns\n",
    "import re # module to use regular expressions, \n",
    "import os # allow changing, and navigating files and folders, \n",
    "import seaborn as sns # advance plots, for statistics,\n",
    "import scipy.stats as stats  # library for statistics and technical programming, \n",
    "%matplotlib inline"
   ]
  },
  {
   "cell_type": "markdown",
   "id": "5301d2f1-3e90-42ec-9243-8a8438a2d06c",
   "metadata": {},
   "source": [
    "### sklearn.tree.DecisionTreeClassifier\n",
    "* use CART algorithm\n",
    "* informaiton\n",
    "\n",
    "#### important comments:\n",
    "* __criterion{“gini”, “entropy”}, default=”gini”__,\n",
    "    * ENTROPY - favors smaller partitions with disting values at leaves\n",
    "    * GINI - favors larger partions at nodes/leaves wiht easier to split values\n",
    "\n",
    "\n",
    "\n",
    "* __.predict_proba()__\n",
    "    * A decision tree computes the class probability from the number of samples of each class that fall into a given leaf.\n",
    "    * The default values for the parameters controlling the size of the trees (e.g. max_depth, min_samples_leaf, etc.) lead to fully grown and unpruned trees I.e. the tree is grown until it perfectly (over)fits the training data. This means that all training samples in each leaf are of the same class and a test sample either matches that class (p=1) or does not (p=0).\n",
    "    * To get finer probability estimates you can restrict min_samples_leaf so that there is a minimum number of samples in each leaf, which will be used to compute probabilities (with one sample you get [0, 1] - with e.g. 10 samples you can get [0, 0.1, 0.2, ..., 0.9, 1]). You are going to have to experiment with the settings to find which numbers work best for you and your data."
   ]
  },
  {
   "cell_type": "markdown",
   "id": "49f29103-b4dd-44a5-acba-59602541cf78",
   "metadata": {},
   "source": [
    "#### create the data"
   ]
  },
  {
   "cell_type": "code",
   "execution_count": 3,
   "id": "cebc7a3c-a681-44bd-9249-c789868f49e1",
   "metadata": {},
   "outputs": [
    {
     "name": "stdout",
     "output_type": "stream",
     "text": [
      "X.shape (200, 2)\n",
      "y [0 1 1 0 1]\n"
     ]
    },
    {
     "data": {
      "image/png": "[encoded data removed]",
      "text/plain": [
       "<Figure size 432x288 with 1 Axes>"
      ]
     },
     "metadata": {
      "needs_background": "light"
     },
     "output_type": "display_data"
    }
   ],
   "source": [
    "from sklearn.datasets import make_circles\n",
    "\n",
    "# create the data co classyfication, \n",
    "X, y = make_circles(\n",
    "    n_samples=200,    # total points in dataset, equal nr in both circles\n",
    "    factor=0.3,       # distance between circles,  \n",
    "    noise=0.3,        # noise level\n",
    "    shuffle=True,\n",
    "    random_state=0\n",
    ")\n",
    "\n",
    "# check\n",
    "print(f\"X.shape {X.shape}\")\n",
    "print(f\"y {y[0:5]}\")\n",
    "\n",
    "# plot\n",
    "fig, ax = plt.subplots()\n",
    "ax.set_aspect('equal', adjustable='box') # Same scale for x- and y-axis\n",
    "ax.scatter(X[:, 0][(y == 1)], X[:, 1][(y == 1)], c='C3', label='1') # blue\n",
    "ax.scatter(X[:, 0][~(y == 1)], X[:, 1][~(y == 1)], c='C0', label='0') # red\n",
    "ax.legend()\n",
    "plt.show();"
   ]
  },
  {
   "cell_type": "markdown",
   "id": "56894896-25f8-4809-9df3-04281738004b",
   "metadata": {},
   "source": [
    "#### create dt classifier"
   ]
  },
  {
   "cell_type": "code",
   "execution_count": 53,
   "id": "807effa0-2c18-454e-9654-b4798a5e4e18",
   "metadata": {},
   "outputs": [],
   "source": [
    "from sklearn.tree import DecisionTreeClassifier\n",
    "\n",
    "# create classifier\n",
    "clf = DecisionTreeClassifier(\n",
    "        criterion='gini', # {“gini”, “entropy”}, default=”gini”\n",
    "        splitter='best', # {“best”, “random”}, default=”best”\n",
    "        max_depth=60,  \n",
    "        max_leaf_nodes=100, # max nr of leaf nodes\n",
    "        random_state=0    \n",
    "    ) "
   ]
  },
  {
   "cell_type": "code",
   "execution_count": 54,
   "id": "fca17450-4586-48c5-929c-cc89c754fb4a",
   "metadata": {},
   "outputs": [
    {
     "name": "stdout",
     "output_type": "stream",
     "text": [
      "dt acc: 1.0\n",
      "baseline acc: 0.5\n"
     ]
    },
    {
     "data": {
      "image/png": "[encoded data removed]",
      "text/plain": [
       "<Figure size 432x288 with 2 Axes>"
      ]
     },
     "metadata": {
      "needs_background": "light"
     },
     "output_type": "display_data"
    }
   ],
   "source": [
    "# fit\n",
    "clf.fit(X, y)\n",
    "\n",
    "# Get score, accuracy, \n",
    "print(\"dt acc:\", clf.score(X, y))\n",
    "\n",
    "# check most frequent baseline\n",
    "print(\"baseline acc:\", pd.value_counts(y, normalize=True)[0])\n",
    "\n",
    "# plot decision surfaces\n",
    "from src.utils.DataFrameExplorer_simple_plots import plot_decision_surface\n",
    "plot_decision_surface(X, y, clf)"
   ]
  },
  {
   "cell_type": "markdown",
   "id": "e25b2bb8-85ac-41be-9db7-2c9a5e5b7eb9",
   "metadata": {},
   "source": [
    "#### Visualize the tree with skleanr method"
   ]
  },
  {
   "cell_type": "code",
   "execution_count": 55,
   "id": "f345de8c-b781-4873-8715-51b271c67720",
   "metadata": {},
   "outputs": [
    {
     "data": {
      "image/png": "[encoded data removed]",
      "text/plain": [
       "<Figure size 432x288 with 1 Axes>"
      ]
     },
     "metadata": {
      "needs_background": "light"
     },
     "output_type": "display_data"
    }
   ],
   "source": [
    "from sklearn import tree\n",
    "tree.plot_tree(clf)\n",
    "plt.show()"
   ]
  },
  {
   "cell_type": "markdown",
   "id": "a9f3cff5-362e-40ec-a260-86a654d6f6bb",
   "metadata": {},
   "source": [
    "#### visualize the tree with graphiz\n",
    "https://towardsdatascience.com/how-to-visualize-a-decision-tree-from-a-random-forest-in-python-using-scikit-learn-38ad2d75f21c\n",
    "https://towardsdatascience.com/visualizing-decision-trees-with-python-scikit-learn-graphviz-matplotlib-1c50b4aa68dc\n",
    "* gives you more control over the objects\n",
    "* use export_graphviz() &  graphviz.Source()\n",
    "* feature names, \n",
    "    - provided as column names for array given to DecisionTreeClassifier you dont have to select them, the model, and export_graphviz funciotns will do that automatically,\n",
    "* class names\n",
    "    * for this moment, I think they are in the same order as int, \n",
    "    * ie. you give a folliwing list [class_1_name, class_2_name] for 0, and 1, respectively\n",
    "* max depth\n",
    "    * caution with that !\n",
    "    * it is being set twice, \n",
    "        * once in DecisionTreeClassifier, and then again in export_graphviz\n",
    "        * export_graphviz will always plot a max depth that requested, \n",
    "        * or max available levels\n",
    "    * if you request lower depth to export_graphviz, while there is more levels available in a given model, they will be shown as __grey nodes__,\n",
    "        * only one level more is shown in that way, even if 2 or more are available,\n",
    "        \n",
    "* potential issues\n",
    "    * Try to reinstall graphviz   \n",
    "    !conda remove graphviz   \n",
    "    !conda install python-graphviz   \n",
    "    !graphviz.Source(dot_graph).view()    \n",
    "    \n",
    "* MY experience\n",
    "    * this plotting method return very nice fogures, but it often fail to plot the .dot objects in jupyter lab, \n",
    "    * in case of these problem, you woudl have to first convert your image into .png format, \n",
    "    * and next plot it with image() function\n",
    "\n"
   ]
  },
  {
   "cell_type": "code",
   "execution_count": 58,
   "id": "6a19b86c-7376-4ff2-931b-881e43909bf2",
   "metadata": {},
   "outputs": [],
   "source": [
    "import graphviz # !pip install graphviz\n",
    "from sklearn.tree import export_graphviz\n",
    "from IPython.display import display # allows allows you to insert DOT text directly (without saving it to file first)\n",
    "\n",
    "# Function, ....................................................\n",
    "dot_data = export_graphviz(\n",
    "    clf,                              # INPUT; decision tree obj, \n",
    "    out_file=None,                    # OUTPUT; if None, the obj, is returned \n",
    "                                      #         as GraphViz dot format (string)\n",
    "    # feature, class names to display, \n",
    "    feature_names=['feature_0', 'feature_1'],   # name of the features in X\n",
    "    class_names=['0', '1'],           # names of the features in Y\n",
    "    max_depth=1,                      # optional, If None, the tree is fully generated.\n",
    "\n",
    "    # starts displayed in each node,\n",
    "    node_ids=False,                   # shows node ID number, \n",
    "    impurity=True,                    # True, is default, eg shows gini in each node,  \n",
    "    proportion=True,                  # display proportion of each class, in each node\n",
    "    precision=2,                      # number of digits displayed for each float,\n",
    "\n",
    "    # tree orientation, \n",
    "    rotate=False,                     # True; top-down, False; right-left\n",
    "     \n",
    "    # node aestetics,\n",
    "    filled=True,                      # add color, to nodes, \n",
    "    rounded=True,                     # round corners in node boxes, \n",
    "       \n",
    "    # leave features,\n",
    "    leaves_parallel=True              # display all leaves at the bottom\n",
    ")\n",
    " \n",
    "#graphviz.Source(dot_data) # plots the tree,\n",
    "'''unfortunately it doent work'''\n",
    "dot_data = export_graphviz(clf)    \n",
    "gvz=graphviz.Source(dot_data)\n",
    "#display(gvz)\n",
    "#graphviz.Source(dot_data) # péots the tree, \n",
    "# print(gvz.source)\n",
    "\n",
    "\"\"\"\n",
    "    What I see on a graph;\n",
    "    \n",
    "    gini:      the impurity measure of that node,\n",
    "    samples:   the % of samples in this node,\n",
    "    values:    the probabilities of each class (done for each class separately)\n",
    "    class:     name of the most frequent class\n",
    "    \n",
    "    CAUTION - this must be the last function in a cell !!!!\n",
    "\n",
    "\n",
    "\"\"\";"
   ]
  },
  {
   "cell_type": "code",
   "execution_count": null,
   "id": "842f023c-e8e6-4cae-9c39-5802bd1aa250",
   "metadata": {},
   "outputs": [],
   "source": []
  },
  {
   "cell_type": "code",
   "execution_count": null,
   "id": "07fd0399-3984-4a2e-9308-4f8b75ff69bb",
   "metadata": {},
   "outputs": [],
   "source": []
  },
  {
   "cell_type": "code",
   "execution_count": null,
   "id": "ba212d3f-5537-408c-9fff-829ec2132ab2",
   "metadata": {},
   "outputs": [],
   "source": []
  },
  {
   "cell_type": "code",
   "execution_count": null,
   "id": "c0a1ff09-1b0f-489f-a5cc-ce469c9ebb4c",
   "metadata": {},
   "outputs": [],
   "source": []
  },
  {
   "cell_type": "code",
   "execution_count": null,
   "id": "8ac5a2bb-8815-4e05-9208-168b2eb2c903",
   "metadata": {},
   "outputs": [],
   "source": []
  },
  {
   "cell_type": "code",
   "execution_count": null,
   "id": "564f4590-1c81-4991-9c2d-e58dd9d4943d",
   "metadata": {},
   "outputs": [],
   "source": []
  },
  {
   "cell_type": "markdown",
   "id": "42729529-1cdf-430b-8754-a794047295e9",
   "metadata": {},
   "source": [
    "## other materials\n",
    "\n",
    "* examine dt model https://scikit-learn.org/stable/auto_examples/tree/plot_unveil_tree_structure.html#sphx-glr-auto-examples-tree-plot-unveil-tree-structure-py \n",
    "\n",
    "* two class ada boost https://scikit-learn.org/stable/auto_examples/ensemble/plot_adaboost_twoclass.html#sphx-glr-auto-examples-ensemble-plot-adaboost-twoclass-py"
   ]
  }
 ],
 "metadata": {
  "kernelspec": {
   "display_name": "Python 3",
   "language": "python",
   "name": "python3"
  },
  "language_info": {
   "codemirror_mode": {
    "name": "ipython",
    "version": 3
   },
   "file_extension": ".py",
   "mimetype": "text/x-python",
   "name": "python",
   "nbconvert_exporter": "python",
   "pygments_lexer": "ipython3",
   "version": "3.7.10"
  }
 },
 "nbformat": 4,
 "nbformat_minor": 5
}
