{
 "cells": [
  {
   "cell_type": "markdown",
   "id": "7b87db6d-7efa-4fa9-bc5c-9d8e3624156a",
   "metadata": {},
   "source": [
    "# Python Basics\n",
    "---\n",
    "\n",
    "Collected, Created and Edited by __Pawel Rosikiewicz__ www.SimpleAI.ch"
   ]
  },
  {
   "cell_type": "markdown",
   "id": "d4d99365-1311-447b-90b9-1790bea23810",
   "metadata": {},
   "source": [
    "## Python dictionary\n",
    "* __Index in Python starts from 0, not 1!__\n",
    "* __ipython__; the most popular version of a python. It has magic commands to operate with the system starting with % and %%such as %dir, %ls\n",
    "* __Virtual Env__; an isolated copy of Python that maintains its own files and directories. VE are used to ensure that each project is cleanly separated from other projects and there are no problems with dependencies between them.\n",
    "* __Conda__: a package and environment manager that we can use to create virtual environments.\n",
    "    * __.yml__; an environment file. It contains list of packages with their version number. Required to create conda env. Eg:\n",
    "        > name: conda_env1 channels:\n",
    "        > - anaconda\n",
    "        > - conda-forge\n",
    "        > dependencies: \n",
    "        > - python=3.6 \n",
    "        > - numpy=1.15\n",
    "* __Conda vs Docker__; \n",
    "    * both docker and conda has similar function, and create VE\n",
    "    * Conda is often used by data scientists, because it is easily run with anaconda, and jupyter notebooks/labs \n",
    "    * The most important reason people chose Docker is that the Docker creates a single object, containing an app. with all dependencies, that can be moved between any docker-enabled machines.\n",
    "    * FOR MORE: https://www.slant.co/versus/1592/5880/~conda_vs_docker\n",
    "    \n",
    "    \n",
    "### TIPS\n",
    "* add \";\" at the of expression to not print it in the cell below\n",
    "* indexing starts from '0'\n"
   ]
  },
  {
   "cell_type": "markdown",
   "id": "53f3f3ec-4908-407d-a0fb-81f23745b8ce",
   "metadata": {},
   "source": [
    "## PYTHON HELP\n",
    "---\n",
    "\n",
    "#### Online Help for Python\n",
    "*\tPython documentation: https://docs.python.org/3/\n",
    "*\tTutor mailing list https://mail.python.org/mailman/listinfo/tutor  $\n",
    "*\tStackOverflow https://stackoverflow.com/questions/tagged/python  \n",
    "*\tQuora https://www.quora.com/topic/Python-programming-language-1?merged_tid=13292\n",
    "\n",
    "#### Build-in help functions\n",
    "* __help()__ ; return promt windondow asking for name funciton\n",
    "* __help(function_name)__ ; full info on that funciton\n",
    "* __function_name?__ ; provides fucntion source code, \n",
    "* __SHIFT + TAB__ ; Jupyter notebook's shortcut, provides short info on the object inside the cell in a given line, eg in new cell type list(), and press shit+tab\n",
    "\n"
   ]
  },
  {
   "cell_type": "markdown",
   "id": "1789e83c-ecf6-4a79-ace7-af7b373299df",
   "metadata": {},
   "source": [
    "## PYTHON VARIABLES & DATA TYPES - short review\n",
    "---\n",
    "* __variable__ ; \n",
    "    * reference to a memory location.   \n",
    "    * VARIABLES DO NOT HAVE ASSOCIATED TYPES: a major difference from Java and C/ C++.  \n",
    "\n",
    "### DATA TYPES\n",
    "* __number__, with four different subtypes  \n",
    "    * int: for storing integers  \n",
    "    * float: for storing decimal numbers  \n",
    "    * complex: complex numbers, real + imaginary part, 5+2j  \n",
    "* __string__: for storing sequences of Unicode characters\n",
    "* __List__: ordered  list of values, with indexes, can hold different dtypes, and nested \n",
    "    > [ ]; list()   \n",
    "    > new_list = [1, 2, 3, 4, 5, 6]\n",
    "* __tuple__: same as lists, but immutable   \n",
    "    > ( ); tuple()   \n",
    "    > new_tupple = (1, 2, 3, 4, 5, 6)\n",
    "* __dictionary__: store any other object, dtype with key:value pairs, keys are unique, \n",
    "    > {key: value pairs};      \n",
    "    > Dict = { \"one\": 1, \"two\": 2, \"three\": 3 }  \n",
    "* __set__; contains unordered list of unique values, No Duplicates, \n",
    "    > {}\n",
    "    > Set = {1, 2, 3, 4, 5, 6}\n",
    "* __List comprehension__ #  [ ],{ }; like lambda but easier to use"
   ]
  },
  {
   "cell_type": "code",
   "execution_count": null,
   "id": "351d4e23-c95a-440d-ba49-1dacf2edd0fc",
   "metadata": {},
   "outputs": [],
   "source": []
  },
  {
   "cell_type": "markdown",
   "id": "402a0f60-47c4-4cc0-8525-21da00670ac6",
   "metadata": {},
   "source": [
    "### BOOL\n",
    "\n",
    "* __True:__\t\n",
    "    -> \tTrue  \t\n",
    "\t->\t1  \n",
    "\t->\tor any number !=0 e.g. -4000 and 3.4565   \n",
    "\n",
    "* __False:__\t\n",
    "    -> \tFalse  \n",
    "\t-> \t0  \n",
    "\t-> \tNone  \n",
    "\t->\tstring with anything or empty sting - CAUTION ON THAT\n"
   ]
  },
  {
   "cell_type": "code",
   "execution_count": null,
   "id": "dea4a70e-a4a9-4ee9-b2f3-28c6d601a76e",
   "metadata": {},
   "outputs": [],
   "source": []
  },
  {
   "cell_type": "code",
   "execution_count": null,
   "id": "f6193d16-7b96-4734-a7e0-11701778283c",
   "metadata": {},
   "outputs": [],
   "source": []
  },
  {
   "cell_type": "markdown",
   "id": "5a43619d-7300-42c9-b120-efa5280d0f37",
   "metadata": {},
   "source": [
    "### STRINGS\n",
    "---\n",
    "https://docs.python.org/3/library/string.html#string.ascii_lowercase\n",
    "\n",
    "STRING METHODS\n",
    "https://www.programiz.com/python-programming/methods/string\n",
    "\n",
    "\n",
    "S.FEATURES\n",
    "+  immutable; new object with new id(), (like in Java and C#)\n",
    "+  slicing: substrings can be created with the slicing notation\n",
    "+ Quotas\t ‘ ’;“ ”;“” “”; “”” “””; almost no differences:\n",
    "\t> single quotes are used by most python users !!!   \n",
    "\t> double quotes inside single quotes & \topposite without escaping them – ie these will be printed  \n",
    "\t> str with triple quotes can span over many lines   \n",
    "\n",
    "INSPECT STRING\n",
    "*   len()\n",
    "*   in; s = \"aaaYaaa\"; \"Y\" in s # True\n",
    "*   s.startwith( ); True if the string starts with PATTERN\n",
    "*   s.endwith( ); True if the string starts with “example”"
   ]
  },
  {
   "cell_type": "markdown",
   "id": "358bfc56-0f91-4598-82c4-e0b24d3cccbc",
   "metadata": {},
   "source": [
    "#### create"
   ]
  },
  {
   "cell_type": "code",
   "execution_count": 38,
   "id": "a781180e-cc57-4a36-a99c-04cb8f4f0722",
   "metadata": {},
   "outputs": [],
   "source": [
    "s = \"abcdebbbbBBB\"\n",
    "str(5) # '5'\n",
    "\n",
    "# fstring and operations\n",
    "f_string = f'5: {s}' # '5: abcdebbbbBBB'\n",
    "s+s # 'abcdebbbbBBBabcdebbbbBBB'\n",
    "s*3 #  'abcdebbbbBBBabcdebbbbBBBabcdebbbbBBB'\n",
    "\n",
    "# can be indexed\n",
    "'''caution! idx>len(str)-1 returns IndexError'''\n",
    "s[2] # 'c'\n",
    "\n",
    "# join indexes from the list or set\n",
    "l = [\"a\", \"b\", \"c\",\"d\"]; \"...\".join(l); # 'a...b...c...d'"
   ]
  },
  {
   "cell_type": "markdown",
   "id": "1ab6f6f3-04fb-4eee-a9d4-5aaa0fe24f71",
   "metadata": {},
   "source": [
    "#### special strings"
   ]
  },
  {
   "cell_type": "code",
   "execution_count": 24,
   "id": "2929483c-4d19-4e37-af30-45d48bd05edf",
   "metadata": {},
   "outputs": [
    {
     "data": {
      "text/plain": [
       "'abcdefghijklmnopqrstuvwxyz'"
      ]
     },
     "execution_count": 24,
     "metadata": {},
     "output_type": "execute_result"
    }
   ],
   "source": [
    "import string\n",
    "string.ascii_lowercase"
   ]
  },
  {
   "cell_type": "code",
   "execution_count": 46,
   "id": "2aca57f2-023a-45c3-bf5d-d60580f6b87b",
   "metadata": {},
   "outputs": [],
   "source": [
    "import string\n",
    "alphabet = string.ascii_lowercase\n",
    "def split_char(word):\n",
    "    return [char for char in word]\n",
    "\n",
    "alph_char = split_char(alphabet)\n",
    "# returns: ['a', 'b', 'c', ... ,'z']"
   ]
  },
  {
   "cell_type": "markdown",
   "id": "9aa5d97d-1fc0-4e8a-9cd4-47aa12c45595",
   "metadata": {},
   "source": [
    "#### inspect"
   ]
  },
  {
   "cell_type": "code",
   "execution_count": 37,
   "id": "e654f3e8-1b92-4427-84b3-47a51bd57be5",
   "metadata": {},
   "outputs": [],
   "source": [
    "# lenght \n",
    "len(s) # return 5\n",
    "\n",
    "# is in?\n",
    "\"a\" in s # return True\n",
    "s == 'a' # return False\n",
    "\n",
    "# chararter type\n",
    "s=\"123abc\"\n",
    "s.isalnum() # True\n",
    "s.isalpha() # False, search for letters only\n",
    "s.isspace() # True if there are only whitespace characters\n",
    "s.istitle() # True if ... is is a title \n",
    "\n",
    "s.isdecimal()  # False, search for numbers - most conservative, \n",
    "s.isdigit()  # ... same, but allows special num, between digits, eg \".\" \n",
    "s.isnumeric(); # ... most liberal, allows different alphabets, and formats, \n",
    "\n",
    "# example difference\n",
    "# https://stackoverflow.com/questions/44891070/whats-the-difference-between-str-isdigit-isnumeric-and-isdecimal-in-python\n",
    "# +-------------+-----------+-------------+----------------------------------+\n",
    "# | isdecimal() | isdigit() | isnumeric() |          Example                 |\n",
    "# +-------------+-----------+-------------+----------------------------------+\n",
    "# |    True     |    True   |    True     | \"038\", \"੦੩੮\", \"０３８\"           |\n",
    "# |  False      |    True   |    True     | \"⁰³⁸\", \"🄀⒊⒏\", \"⓪③⑧\"          |\n",
    "# |  False      |  False    |    True     | \"↉⅛⅘\", \"ⅠⅢⅧ\", \"⑩⑬㊿\", \"壹貳參\"  |\n",
    "# |  False      |  False    |  False      | \"abc\", \"38.0\", \"-38\"             |\n",
    "# +-------------+-----------+-------------+----------------------------------+"
   ]
  },
  {
   "cell_type": "markdown",
   "id": "41211c73-1595-44e6-8099-81bf80763f31",
   "metadata": {},
   "source": [
    "#### find substrings\n",
    "__Caution!__; all operations returns ValueError warnign if the parttern was not found"
   ]
  },
  {
   "cell_type": "code",
   "execution_count": 35,
   "id": "f5b28f39-3ad3-453f-a33d-5b1aec5dbf78",
   "metadata": {},
   "outputs": [],
   "source": [
    "# find vs rfind\n",
    "''' find - returns the firtst index, and -1 if not found\n",
    "    rfind - retuns the last index\n",
    "    in case substrinf has more then 1 character like cc, wrod, etc, \n",
    "    both functions returns the first index of that substring in searched string\n",
    "'''\n",
    "s = \"abcdebbbbBBB\"\n",
    "\n",
    "# find start index\n",
    "s.find(\"a\") # returns 0 - index on which \"a\" starts\n",
    "s.find(\"bb\") # returns 5 - stop after the first found pattern,\n",
    "\n",
    "# find the highest index of the substring in a string\n",
    "s.rindex('B') # returns: 11\n",
    "s.rindex('BBB'); # returns: 9 - its the highest starting index of that substring"
   ]
  },
  {
   "cell_type": "code",
   "execution_count": 36,
   "id": "4a61b265-d0cf-45c4-9489-b340beb2c3dd",
   "metadata": {},
   "outputs": [],
   "source": [
    "# startwith/endwith\n",
    "s.startswith('a') # True\n",
    "s.endswith('a') # False\n",
    "s.rindex('a', 0,6); # search only on indexes 0 to 5"
   ]
  },
  {
   "cell_type": "code",
   "execution_count": 34,
   "id": "25ca2905-518b-40f5-b128-ee39cb2249ca",
   "metadata": {},
   "outputs": [],
   "source": [
    "# count nr of substrings\n",
    "s.count('bb'); # returns 2"
   ]
  },
  {
   "cell_type": "markdown",
   "id": "c1029566-c33d-4668-82d9-7defffd99f46",
   "metadata": {},
   "source": [
    "#### find & replace"
   ]
  },
  {
   "cell_type": "code",
   "execution_count": 33,
   "id": "1abe11a8-02db-4177-bfba-e7a4cdb9404d",
   "metadata": {},
   "outputs": [],
   "source": [
    "s = \"AbC\"; \n",
    "s.replace(\"A\", 'yyyy'); # 'yyyybC'"
   ]
  },
  {
   "cell_type": "markdown",
   "id": "8ab2cc33-c8f5-48e8-b6cb-48cf06164fdd",
   "metadata": {},
   "source": [
    "#### modify string"
   ]
  },
  {
   "cell_type": "code",
   "execution_count": 32,
   "id": "fd38537a-41d8-4d7a-886b-6829c339cf03",
   "metadata": {},
   "outputs": [],
   "source": [
    "# lower/uper case\n",
    "s=\"abd\"; \n",
    "s.upper() # 'ABC'\n",
    "s.capitalize() # 'Abc' - capitalize only the first character\n",
    "\n",
    "s=\"ABC\"; \n",
    "s.lower() # 'abc'\n",
    "s.casefold() # 'abcdebbbbbbb'- lower case\n",
    "\n",
    "s = \"AbC\"\n",
    "s.swapcase() # 'aBc'\n",
    "\n",
    "# make title, \n",
    "'''capital letter on the begiiiing of each word'''\n",
    "s = \"this is my title\"\n",
    "s.title(); # ''This Is My Title''"
   ]
  },
  {
   "cell_type": "markdown",
   "id": "fd9709c9-5f25-4bf6-9b58-57c54b47f8df",
   "metadata": {},
   "source": [
    "#### padding"
   ]
  },
  {
   "cell_type": "code",
   "execution_count": 31,
   "id": "8ef16a0f-9e98-433c-9af9-b3128e473c88",
   "metadata": {},
   "outputs": [],
   "source": [
    "# add padding\n",
    "'''if assymetric, it wqill add padding on the beginning at first'''\n",
    "s = \"abc\"\n",
    "s.center(10, \"_\") # '___abc____'\n",
    "s.center(1, \"_\") # 'abc' - no cutting down the lenght\n",
    "\n",
    "# padd with zeros on the left\n",
    "s.zfill(10); # '0000000abc'"
   ]
  },
  {
   "cell_type": "markdown",
   "id": "b2dc0a89-8076-4e7c-8f70-4009d1968962",
   "metadata": {},
   "source": [
    "#### split and sort\n",
    "* if you split with substring that is not found it return ValueError!"
   ]
  },
  {
   "cell_type": "code",
   "execution_count": 147,
   "id": "8e801472-6486-43f9-80b8-0d0a2710effc",
   "metadata": {},
   "outputs": [],
   "source": [
    "# partition & rpartition\n",
    "''' splits the string at the first or last occurrence, repsectively \n",
    "    of the argument and returns tuple with\n",
    "    arguments before, separator, and arg. after separator\n",
    "'''\n",
    "s=\"ABBC\"; \n",
    "s.partition(\"B\")  # ('A', 'B', 'BC')\n",
    "s.rpartition(\"B\") # ('AB', 'B', 'C')\n",
    "\n",
    "# split\n",
    "s.split(\"B\") # ['A', '', 'C']\n",
    "s.split(\" \") # ['ABBC']\n",
    "\n",
    "# set maxsplits\n",
    "s=\"ABBBBBBBC\"; s.split(\"B\",2); # ['A', '', 'BBBBBC']\n",
    "\n",
    "# Split and sort\n",
    "sorted(\"This is a test string\".split(), key=str.lower);\n",
    "# [‘a’, 'is', 'string', 'test', 'This']\n"
   ]
  },
  {
   "cell_type": "markdown",
   "id": "8b70e368-d4bf-4fdd-baa9-1e9b5cb69ed0",
   "metadata": {},
   "source": [
    "#### format string & format_map\n",
    "* see for details: https://www.programiz.com/python-programming/methods/string/format\n",
    "* formats the given string into a predefined output\n",
    "* format() method takes any number of parameters. \n",
    "    * two types of parameters:\n",
    "    * Positional parameters - list of parameters that can be accessed with index of parameter inside curly braces {index}\n",
    "    * Keyword parameters - list of parameters of type key=value, that can be accessed with key of parameter inside curly braces\n",
    "* How it works?\n",
    "    * it  reads the type of arguments passed to it and formats it according to the format codes defined in the string.\n"
   ]
  },
  {
   "cell_type": "code",
   "execution_count": 167,
   "id": "60c900ab-61cc-4186-a4a9-bd1a37f25b98",
   "metadata": {},
   "outputs": [
    {
     "data": {
      "text/plain": [
       "'this is my test'"
      ]
     },
     "execution_count": 167,
     "metadata": {},
     "output_type": "execute_result"
    }
   ],
   "source": [
    "# you may use keywords or indexes\n",
    "'this{br}is{br}my{br}{word}'.format(br=\" \", word='test')"
   ]
  },
  {
   "cell_type": "code",
   "execution_count": 44,
   "id": "d6a7d906-84e8-4eb9-9494-a348b405d204",
   "metadata": {},
   "outputs": [],
   "source": [
    "import string\n",
    "alphabet = string.ascii_lowercase\n",
    "def split_char(word):\n",
    "    return [char for char in word]\n",
    "\n",
    "alph_char = split_char(alphabet)"
   ]
  },
  {
   "cell_type": "markdown",
   "id": "dd5204fc-d312-4b39-899d-014e9fef7ff2",
   "metadata": {},
   "source": [
    "### LIST\n",
    "---\n",
    "* it is the most versatile data type, \n",
    "* a collection of items separated by commas and enclosed in square brackets. \n",
    "* __Features:__\n",
    "    1.\tordered\n",
    "    2.\tindexing starts at 0\n",
    "    3.\tthey can contain objects of any data type\n",
    "    4.\tcan have any size or empty\n",
    "    5.\tthe elements of a list can be changed, unlike in tupple\n",
    "    6.\tlists can contain sub lists and they can be arbitrarily nested\n",
    "* __list are used for stacks__\n",
    "    * The list methods make it very easy to use a list as a stack, where the last el. added is the 1st el. retrieved (“last-in, first-out”). \n",
    "    * To add an item to the top of the stack, use l.append(). \n",
    "    * To retrieve an item from the top of the stack, use l.pop() without index – it’s super fast. \n",
    "    * Doing inserts or pops from the beginning of a list is slow (because all of the other el’s have to be shifted by one).\n"
   ]
  },
  {
   "cell_type": "markdown",
   "id": "32d1a7d9-4b1a-4cb6-9285-9fc5e8c32d43",
   "metadata": {},
   "source": [
    "#### create"
   ]
  },
  {
   "cell_type": "code",
   "execution_count": 7,
   "id": "397fcd56-6808-47b6-b6ad-3aa0eb283502",
   "metadata": {},
   "outputs": [],
   "source": [
    "# crerate list with different dtypes\n",
    "lst = [ 2.34, 10, 'John', 'car', 9 ];\n",
    "lst = [ ]; #empty list\n",
    "lst = [ [ 'dog' , 23 ] , 10 ]; # nested list\n",
    "\n",
    "# use other methods\n",
    "lst = []\n",
    "lst = list()\n",
    "lst = list(range(10)) # not [range(10)] !\n",
    "\n",
    "# from old list, \n",
    "new_list = lst # this way you just assign different name to the same object, and modify both\u001d",
    "\n",
    "new_list = lst.copy() # USE COPY!"
   ]
  },
  {
   "cell_type": "markdown",
   "id": "326c0b6a-610d-48d7-9d6c-2f5ad4cf0cf3",
   "metadata": {},
   "source": [
    "#### inspect"
   ]
  },
  {
   "cell_type": "code",
   "execution_count": 69,
   "id": "9f3f2b45-c832-4f52-9c46-3ffe3b153cf7",
   "metadata": {},
   "outputs": [],
   "source": [
    "isinstance(lst, list);\n",
    "len(lst);"
   ]
  },
  {
   "cell_type": "markdown",
   "id": "aaa8b7a1-d3d9-4d10-83f7-322168c2aed7",
   "metadata": {},
   "source": [
    "#### list indexing"
   ]
  },
  {
   "cell_type": "code",
   "execution_count": 58,
   "id": "96045062-6268-4bc4-8bff-9f109d4d48dc",
   "metadata": {},
   "outputs": [],
   "source": [
    "# get example with alphabet letters, \n",
    "import string; letters = [x for x in string.ascii_lowercase]\n",
    "\n",
    "# index\n",
    "letters[0:5] # ['a', 'b', 'c', 'd', 'e']\n",
    "letters[20:-1] # ['u', 'v', 'w', 'x', 'y']\n",
    "letters[::-1]; # reverse complement\n",
    "letters.reverse() # reverse, inplace !"
   ]
  },
  {
   "cell_type": "markdown",
   "id": "64bd004d-b173-4e80-bf4d-6538c902b23c",
   "metadata": {},
   "source": [
    "#### find item or its index in the list"
   ]
  },
  {
   "cell_type": "code",
   "execution_count": 82,
   "id": "c18af295-5bda-4427-93aa-b9e4c053dd90",
   "metadata": {},
   "outputs": [
    {
     "name": "stdout",
     "output_type": "stream",
     "text": [
      "(0, 'a')\n"
     ]
    }
   ],
   "source": [
    "# example\n",
    "import string; letters = [x for x in string.ascii_lowercase]\n",
    "\n",
    "letters.index('b') # if incorrect = ValueError!\n",
    "letters.count(\"b\") # ...\n",
    "\n",
    "# enumerate\n",
    "'''returns tuple with idx, and value from the list'''\n",
    "enumerate(letters) # used in for loops\n",
    "for i in enumerate(letters[0:1]): print(i)\n",
    "    # (0, 'a')"
   ]
  },
  {
   "cell_type": "markdown",
   "id": "c83364bd-b23f-455c-8aab-8e5cbf850de4",
   "metadata": {},
   "source": [
    "#### add or insert new items"
   ]
  },
  {
   "cell_type": "code",
   "execution_count": 115,
   "id": "495ecc08-04f3-4388-99b7-3eed866d0dba",
   "metadata": {},
   "outputs": [],
   "source": [
    "# examples\n",
    "import string; letters = [x for x in string.ascii_lowercase]\n",
    "lst = [\"b\", \"c\"]"
   ]
  },
  {
   "cell_type": "code",
   "execution_count": 105,
   "id": "2e119753-5b51-4fd7-be1c-e9f40a2911e7",
   "metadata": {},
   "outputs": [],
   "source": [
    "# often used:\n",
    "lst += \"a\" # same as l.extend(), can not be used with pipe “|”\n",
    "lst + lst; # Add two lists   \n",
    "lst*10;   # multiply list content, no nested from first level list item"
   ]
  },
  {
   "cell_type": "code",
   "execution_count": 101,
   "id": "35e4615b-50ee-4a29-960d-e8c864ba391d",
   "metadata": {},
   "outputs": [],
   "source": [
    "# append & extend\n",
    "''' Caution, it works inplace, \n",
    "    and by running it several time, it adds copy of the item'''\n",
    "lst = [\"a\"]\n",
    "lst.append(\"new_item\"); # works inplace, [0, 1, 2, 'new_item']\n",
    "lst.extend(\"ext\") # separates each char, and nested lists\n",
    "lst.extend([\"new\", \"item\"]);\n",
    "# ['a', 'new_item', 'e', 'x', 't', 'new', 'item']"
   ]
  },
  {
   "cell_type": "code",
   "execution_count": 103,
   "id": "6e07aba7-aa35-4e89-a3a2-7863a70960fb",
   "metadata": {},
   "outputs": [],
   "source": [
    "# insert\n",
    "''' List.insert(i, x);  insert an item x at a given position i\n",
    "    i indicate index of the element before which to insert!'''\n",
    "letters.insert(1, 'blabla'); #['a', 'blabla','b'] ie blabla added before item with index 1 !\n",
    "letters.insert(0, 'blabla'); # inserts before the list, \n",
    "                             # Caution it chnages the indexes of all other items - takes time\n",
    "letters.insert(1000, 'blabla' ) # adds at the end, even if idx > len(list)"
   ]
  },
  {
   "cell_type": "markdown",
   "id": "5c22365a-63e4-41de-8e17-227c75843c0a",
   "metadata": {},
   "source": [
    "#### clear the list or remove the item"
   ]
  },
  {
   "cell_type": "code",
   "execution_count": 123,
   "id": "0a602da8-d3fa-4688-8fd2-ed238392ff94",
   "metadata": {},
   "outputs": [],
   "source": [
    "# examples\n",
    "import string; letters = [x for x in string.ascii_lowercase]\n",
    "lst = [\"b\", \"c\"]"
   ]
  },
  {
   "cell_type": "code",
   "execution_count": 124,
   "id": "3dec8a06-ffee-4366-8316-4d423c978cd4",
   "metadata": {},
   "outputs": [],
   "source": [
    "lst.clear( ) \t    # clears an entire list"
   ]
  },
  {
   "cell_type": "code",
   "execution_count": 125,
   "id": "65242fd2-3050-4050-852d-ed165bceaed1",
   "metadata": {},
   "outputs": [],
   "source": [
    "# remove in place\n",
    "'''returns ValuErrs if not found!'''\n",
    "letters.pop() # 'z'   \t# CAution remove last el inplace, or indexed el, and returns it.\n",
    "letters.remove( 'a' ) \t# x is an item selected, an exact name of the item must be given!\n",
    "del letters[0:3] \t\t# del items in list using its index, NO Brackets!"
   ]
  },
  {
   "cell_type": "markdown",
   "id": "3700f5d3-dd44-4620-a4d8-66b464e0f0ed",
   "metadata": {},
   "source": [
    "#### sort\n",
    "* interesting key option:\n",
    "    * you may sort values in the list, pd.series or other items, using keys like sin of each value, instead of their value in the list directly, \n",
    "        * eg:\n",
    "        s = pd.Series([-4, -2, 0, 2, 4])\n",
    "        s.sort_values(key=np.sin)\n",
    "* important\n",
    "    * you can not mix dtypes for sort and sorted funcitons,!\n",
    "        * returns error\n"
   ]
  },
  {
   "cell_type": "code",
   "execution_count": 168,
   "id": "eb9cbf56-619c-4bbb-9972-c8969290ab98",
   "metadata": {},
   "outputs": [],
   "source": [
    "# create example \n",
    "import numpy as np\n",
    "import pandas as pd\n",
    "import string; \n",
    "\n",
    "letters = [x for x in string.ascii_lowercase]\n",
    "lst = [\"b\", \"a\", \"d\",\"\"]\n",
    "lst_dtypes = lst+[None,10,20]"
   ]
  },
  {
   "cell_type": "code",
   "execution_count": 167,
   "id": "1abc3ca0-8735-4608-aeb8-f255aafc052f",
   "metadata": {},
   "outputs": [
    {
     "data": {
      "text/plain": [
       "['', 'a', 'b', 'd']"
      ]
     },
     "execution_count": 167,
     "metadata": {},
     "output_type": "execute_result"
    }
   ],
   "source": [
    "# list.sort() & sorted(list)\n",
    "'''Caution! - sort() & sorted() do not support sorting with int, NonType, etc and str!\n",
    "               it allows using empty string\n",
    "   can be reverse, sorted( iterable[, cmp[, key[, reverse]]]\t\n",
    "   . sorted; works also on strings, and dictionaries, in dct it sorts keys\n",
    "'''\n",
    "lst.sort( )\t\t#  ['', 'a', 'b', 'd']\n",
    "sorted(lst)     # ['', 'a', 'b', 'd']\n"
   ]
  },
  {
   "cell_type": "code",
   "execution_count": null,
   "id": "0096fe2a-07c6-4196-bda4-b8d42514a02e",
   "metadata": {},
   "outputs": [],
   "source": []
  },
  {
   "cell_type": "markdown",
   "id": "1cac6b79-afd0-4da0-a777-204b2aacb74b",
   "metadata": {},
   "source": [
    "### DICTIONARY\n",
    "---\n",
    "\n",
    "FEATURES\n",
    "* A searchable list of key-value pairs\n",
    "* Every key is unique, values can be duplicated\n",
    "* Hashed array in other languages\n",
    "* Index doesn’t work - use Keys instead\n",
    "* order is not important – no sorting\n",
    "\n",
    "Caution: \n",
    "* always add new key:value pairs, \n",
    "* if you use preexisting key, its value will be removed, and new added.\n",
    "\n",
    "\n",
    "SHALLOW COPY vs DEEP COPY\n",
    "* Shallow Copy (Sc) \n",
    "    - only one level deep \n",
    "    – Sc allows constructing new collection object and then, populating it with references to child obj’s found in original obj. \n",
    "\n",
    "* Deep Copy (Dc); \n",
    "    - makes the copying process recursive. \n",
    "    - It means first constructing a new collection object and then recursively populating it with copies of the child objects found in the original. \n",
    "    - Ie. it walks the whole object tree to create a fully independent clone of the original object and all of its children"
   ]
  },
  {
   "cell_type": "markdown",
   "id": "949e3f4b-8ca8-493b-a95d-1a06da30d28c",
   "metadata": {},
   "source": [
    "#### create new dct\n",
    "* if you use the same key, several times, the value from the last one will be used."
   ]
  },
  {
   "cell_type": "code",
   "execution_count": 173,
   "id": "b8b43ba0-44f7-4959-baf2-453ef8157d76",
   "metadata": {},
   "outputs": [],
   "source": [
    "dct = dict(); # Empty dict\n",
    "dct = dict( one = 1, two = 2, three = 3)\n",
    "dct = { \"one\": 1, \"two\": 2, \"three\": 3 }\n",
    "dct = {**dct, **dct} # from other, unpacked dictionaries,"
   ]
  },
  {
   "cell_type": "markdown",
   "id": "cf33490c-02bf-4a38-98b0-6830be397d98",
   "metadata": {},
   "source": [
    "#### add or modify values"
   ]
  },
  {
   "cell_type": "code",
   "execution_count": 178,
   "id": "b65bb085-d933-4727-bdc2-6104ccf93fb7",
   "metadata": {},
   "outputs": [],
   "source": [
    "# adding new value\n",
    "dct[\"four\"] = 4\n",
    "\n",
    "# replacing existing value\n",
    "dct[\"one\"] = 10 \n",
    "dct.update({\"one\":12}) "
   ]
  },
  {
   "cell_type": "markdown",
   "id": "ec840104-124d-41d7-a69c-1e06321fce1f",
   "metadata": {},
   "source": [
    "#### access to values\n",
    "* if key doent exist, returns ValuError\n",
    "* use dct.get() # to Avoid the problem"
   ]
  },
  {
   "cell_type": "code",
   "execution_count": 190,
   "id": "9ec6cecf-c021-423b-99d1-6092cc2f484c",
   "metadata": {},
   "outputs": [],
   "source": [
    "dct[\"one\"];\n",
    "dct.get(\"one\"); # to Avoid KeyError if you use non-exiting key\n",
    "\n",
    "dct.keys(); \t#access the keys only\n",
    "dct.values()\n",
    "dct.items(); # Returns list with tuples with key - value pairs,\n",
    "    # dict_items([('one', 12), ....]);"
   ]
  },
  {
   "cell_type": "markdown",
   "id": "2c16d0f2-a77d-4359-9b6c-c1a286acad31",
   "metadata": {},
   "source": [
    "#### in/not in"
   ]
  },
  {
   "cell_type": "code",
   "execution_count": 195,
   "id": "4638d7b0-9b8f-4afe-b837-bb630aa20ffd",
   "metadata": {},
   "outputs": [],
   "source": [
    "# search keys\n",
    "\"one\" in dct # True\n",
    "\"one\" not in dct; # False"
   ]
  },
  {
   "cell_type": "markdown",
   "id": "b2a368b5-e8d5-4643-af56-2d60b99c8f7b",
   "metadata": {},
   "source": [
    "#### shallow and deep copy\n",
    "\n",
    "__'*' or '='__ \t\t\n",
    "* factory copy function; \n",
    "* works only for Python built-in mutable collections like:\n",
    "    * lists, dicts, and sets\n",
    "    * doesn’t work for custom obj’s! eg: new_list = list( ); new_dict = dict( ); new_set = set( )\n",
    "\n"
   ]
  },
  {
   "cell_type": "code",
   "execution_count": 197,
   "id": "26cc4d23-e444-4ef8-8178-257f69cbb6b1",
   "metadata": {},
   "outputs": [],
   "source": [
    "import copy\n",
    "\n",
    "# shallow copy\n",
    "List = [[1, 2, 3], [4, 5, 6], [7, 8, 9]];\n",
    "ShallowCopy_List = copy.copy(List)  \n",
    "ShallowCopy_List[ 0 ][ 1 ] = 999 \n",
    "\n",
    "# \tchanges in original and copied objects\n",
    "List\t# \t[[1, 999, 3], [4, 5, 6], [7, 8, 9]]\n",
    "\n",
    "# deep copy\n",
    "DeepCopy_List = copy.deepcopy( List )\n",
    "    # done on all levels, \n",
    "    # ... the above example would only affect the copy\n"
   ]
  },
  {
   "cell_type": "code",
   "execution_count": null,
   "id": "8a821ecc-17e9-4226-b7bf-bcfe1c1bebf2",
   "metadata": {},
   "outputs": [],
   "source": []
  },
  {
   "cell_type": "markdown",
   "id": "2197b252-f413-4e6e-8021-7ba5b76f053d",
   "metadata": {},
   "source": [
    "### SETS\n",
    "---"
   ]
  },
  {
   "cell_type": "code",
   "execution_count": null,
   "id": "f10b275f-f847-4092-9007-d0205e422d10",
   "metadata": {},
   "outputs": [],
   "source": []
  }
 ],
 "metadata": {
  "kernelspec": {
   "display_name": "Python 3",
   "language": "python",
   "name": "python3"
  },
  "language_info": {
   "codemirror_mode": {
    "name": "ipython",
    "version": 3
   },
   "file_extension": ".py",
   "mimetype": "text/x-python",
   "name": "python",
   "nbconvert_exporter": "python",
   "pygments_lexer": "ipython3",
   "version": "3.7.10"
  }
 },
 "nbformat": 4,
 "nbformat_minor": 5
}
