{
 "cells": [
  {
   "cell_type": "code",
   "execution_count": 11,
   "metadata": {},
   "outputs": [
    {
     "name": "stdout",
     "output_type": "stream",
     "text": [
      "1\n"
     ]
    }
   ],
   "source": [
    "\"\"\"\n",
    "    Playing with while not\n",
    "\"\"\"\n",
    "\n",
    "import random\n",
    "outcome_space = [True, False] \n",
    "argument = False\n",
    "counter = 0\n",
    "\n",
    "while not argument:\n",
    "    counter += 1\n",
    "    argument = outcome_space[random.randrange(len(outcome_space))]\n",
    "    if argument >= 20:\n",
    "        break # safety reasons!\n",
    "        \n",
    "print(counter)"
   ]
  },
  {
   "cell_type": "code",
   "execution_count": null,
   "metadata": {},
   "outputs": [],
   "source": [
    "# larger example form probability"
   ]
  },
  {
   "cell_type": "code",
   "execution_count": 12,
   "metadata": {},
   "outputs": [
    {
     "name": "stdout",
     "output_type": "stream",
     "text": [
      "136\n"
     ]
    },
    {
     "data": {
      "text/plain": [
       "1.99578"
      ]
     },
     "execution_count": 12,
     "metadata": {},
     "output_type": "execute_result"
    }
   ],
   "source": [
    "import random \n",
    "import numpy as np\n",
    "import pandas as pd\n",
    "import matplotlib.pyplot as plt\n",
    "import seaborn as sns\n",
    "%matplotlib inline\n",
    "\n",
    "\n",
    "\n",
    "#...Example 2 ..............................................................\n",
    "\n",
    "outcome_space = ['H','T']\n",
    "experiments = 100 # each wiht 3 tosses\n",
    "tails = 0\n",
    "\n",
    "for i in range(experiments):\n",
    "    for toss in range(3):\n",
    "        result = outcome_space[random.randrange(len(outcome_space))]\n",
    "        if result=='T':\n",
    "            tails += 1\n",
    "\n",
    "tails / experiments\n",
    "print(tails)\n",
    "# a value very close to 1.5, e.g. 1.501\n",
    "\n",
    "\n",
    "#...Example 3 ..............................................................\n",
    "\n",
    "outcome_space = ['H','T']\n",
    "experiments = 100000\n",
    "trials = 0\n",
    "\n",
    "for i in range(experiments):\n",
    "    seen_heads = False\n",
    "    while not seen_heads:\n",
    "        trials += 1 # always adding value, and divided by the tot. nr of experiments\n",
    "        result = outcome_space[random.randrange(len(outcome_space))]\n",
    "        if result=='H': \n",
    "            break\n",
    "\n",
    "trials / experiments # nr of trials untill i see the Head\n",
    "# a value very close to 2, e.g. 2.0059"
   ]
  }
 ],
 "metadata": {
  "kernelspec": {
   "display_name": "Python 3",
   "language": "python",
   "name": "python3"
  },
  "language_info": {
   "codemirror_mode": {
    "name": "ipython",
    "version": 3
   },
   "file_extension": ".py",
   "mimetype": "text/x-python",
   "name": "python",
   "nbconvert_exporter": "python",
   "pygments_lexer": "ipython3",
   "version": "3.6.6"
  }
 },
 "nbformat": 4,
 "nbformat_minor": 4
}
