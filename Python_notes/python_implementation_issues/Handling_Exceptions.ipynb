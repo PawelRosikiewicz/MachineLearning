{
 "cells": [
  {
   "cell_type": "markdown",
   "metadata": {},
   "source": [
    "# Error handing with Python"
   ]
  },
  {
   "cell_type": "markdown",
   "metadata": {},
   "source": [
    "# \n",
    "\n",
    "try; eception, finally else\n",
    "https://www.w3schools.com/python/python_try_except.asp"
   ]
  },
  {
   "cell_type": "code",
   "execution_count": 5,
   "metadata": {},
   "outputs": [
    {
     "name": "stdout",
     "output_type": "stream",
     "text": [
      "Variable x is not defined\n",
      "\n",
      " code testing weas done :::::\n"
     ]
    }
   ],
   "source": [
    "\"\"\"\n",
    "    The try block;        lets you test a block of code for errors.\n",
    "    The except block;     lets you handle the error.\n",
    "    The finally block;    lets you execute code, \n",
    "                          regardless of the result of the try- and except blocks.\n",
    "    When to use?\n",
    "                          When an error occurs, called and exception, \n",
    "                          Python will normally stop and generate an error message, \n",
    "                          try block allow handling these messages\n",
    "                          \n",
    "                          with thr try; the block of code will be executed even with an error\n",
    "                          otherwise the prgram will stop working !!!\n",
    "                          \n",
    "\"\"\"\n",
    "\n",
    "# eg1\n",
    "\n",
    "# try your block of code:\n",
    "try:\n",
    "    print(x)\n",
    "\n",
    "# test all knownw & unknown error messages and generate some info message for you\n",
    "except NameError:                 # exception name\n",
    "  print(\"Variable x is not defined\")\n",
    "except KeyError:                  # you can test as many excetion types as you wish\n",
    "  print(\"Variable x is not defined\")\n",
    "except:                           # make it to catch undefined errors\n",
    "  print(\"Something else went wrong\")\n",
    "\n",
    "# if no error found, execute that bloc of code, in addition to block of coce executed in try\n",
    "else:                             \n",
    "  print(\"Nothing went wrong\")\n",
    "\n",
    "# finally is executed irrespectively of error\n",
    "finally:\n",
    "    print(\"\\n code testing weas done :::::\")\n",
    "\n",
    "    \n"
   ]
  },
  {
   "cell_type": "code",
   "execution_count": 15,
   "metadata": {},
   "outputs": [
    {
     "name": "stdout",
     "output_type": "stream",
     "text": [
      "Something went wrong when writing to the file\n"
     ]
    }
   ],
   "source": [
    "try:\n",
    "  f = open(\"demofile.txt\")\n",
    "  f.write(\"Lorum Ipsum\")\n",
    "except:\n",
    "  print(\"Something went wrong when writing to the file\")\n"
   ]
  },
  {
   "cell_type": "code",
   "execution_count": null,
   "metadata": {},
   "outputs": [],
   "source": []
  },
  {
   "cell_type": "code",
   "execution_count": null,
   "metadata": {},
   "outputs": [],
   "source": []
  }
 ],
 "metadata": {
  "kernelspec": {
   "display_name": "Python 3",
   "language": "python",
   "name": "python3"
  },
  "language_info": {
   "codemirror_mode": {
    "name": "ipython",
    "version": 3
   },
   "file_extension": ".py",
   "mimetype": "text/x-python",
   "name": "python",
   "nbconvert_exporter": "python",
   "pygments_lexer": "ipython3",
   "version": "3.6.8"
  }
 },
 "nbformat": 4,
 "nbformat_minor": 4
}
