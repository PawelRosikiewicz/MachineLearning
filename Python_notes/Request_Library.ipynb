{
 "cells": [
  {
   "cell_type": "markdown",
   "metadata": {},
   "source": [
    "# REQUEST LIBRARY\n",
    "https://realpython.com/python-requests/#other-http-methods\n"
   ]
  },
  {
   "cell_type": "code",
   "execution_count": null,
   "metadata": {},
   "outputs": [],
   "source": []
  },
  {
   "cell_type": "markdown",
   "metadata": {},
   "source": [
    "## ----------- BASICS --------------"
   ]
  },
  {
   "cell_type": "code",
   "execution_count": null,
   "metadata": {},
   "outputs": [],
   "source": []
  },
  {
   "cell_type": "markdown",
   "metadata": {},
   "source": [
    "## GET RESPONSE OBJECT, \n",
    "## - - - CHECK SATUS CODE, \n",
    "## - - - - - - RISE EXCEPTIONS"
   ]
  },
  {
   "cell_type": "code",
   "execution_count": 58,
   "metadata": {},
   "outputs": [
    {
     "data": {
      "text/plain": [
       "200"
      ]
     },
     "execution_count": 58,
     "metadata": {},
     "output_type": "execute_result"
    }
   ],
   "source": [
    "\"\"\"\n",
    "    GET & RESPONSE OBJECT \n",
    "\"\"\"\n",
    "import requests\n",
    "\n",
    "# GET request to GitHub’s Root REST API,\n",
    "response = requests.get('https://api.github.com')\n",
    "response.status_code # 200 is ok"
   ]
  },
  {
   "cell_type": "code",
   "execution_count": null,
   "metadata": {},
   "outputs": [],
   "source": [
    "\"\"\"\n",
    "    STATUS CODE\n",
    "    \n",
    "        # 200 - ok\n",
    "        # 204 - no content\n",
    "        # 404 - not found\n",
    "        # 1xx informational response – the request was received, continuing process\n",
    "        # 2xx successful – the request was successfully received, understood and accepted\n",
    "        # 3xx redirection – further action needs to be taken in order to complete the request\n",
    "        # 4xx client error – the request contains bad syntax or cannot be fulfilled\n",
    "        # 5xx server error – the server failed to fulfill an apparently valid request\n",
    "    \n",
    "\"\"\"    \n",
    "\n",
    "# --------------------------------------------------------------------\n",
    "# satatus code\n",
    "print(response.status_code,\"\\n\")\n",
    "\n",
    "    \n",
    "# --------------------------------------------------------------------\n",
    "# Use if/else to test status code\n",
    "\n",
    "# if/else returns True is status_code is between 200 and 400, i.e. any workable material!\n",
    "if response:\n",
    "    print('Success!')\n",
    "else:\n",
    "    print('An error has occurred.')\n",
    "\n",
    "    # Why if else returns True/False with return object?\n",
    "    #      __bool__() is an overloaded method on Response.\n",
    "    #      ie. the default behavior of Response has been redefined \n",
    "    #      to take the status code into account when determining the truth value of the object."
   ]
  },
  {
   "cell_type": "code",
   "execution_count": 60,
   "metadata": {},
   "outputs": [
    {
     "name": "stdout",
     "output_type": "stream",
     "text": [
      "url 0:https://api.github.com: Success!\n",
      "\n",
      " :::::::::::: code testing for url nr 0 was done properly :::::::::::: \n",
      "\n",
      "url 1:https://api.github.com/invalid: HTTP error occurred: 404 Client Error: Not Found for url: https://api.github.com/invalid\n",
      "\n",
      " :::::::::::: code testing for url nr 1 was done properly :::::::::::: \n",
      "\n"
     ]
    }
   ],
   "source": [
    "\"\"\"\n",
    "    RAISE EXCEPTIONS WITH TRY/EXCEPT\n",
    "    \n",
    "    * Try/except/finaly/else code blocks\n",
    "        Why to use that approach?\n",
    "         - try: ... are used to test the code or a function\n",
    "         - this approach allows running block of code with errors and cathes err message to display, \n",
    "           without crashing the whole program\n",
    "         - it also allows to test you what type of error you got (except errorType), and write custome messages, or functions \n",
    "           that will help you understang what happened wiht your code, especially when dealing with much larger programs.\n",
    "\"\"\"\n",
    "\n",
    "import requests\n",
    "from requests.exceptions import HTTPError\n",
    "\n",
    "for i, url in enumerate(['https://api.github.com', 'https://api.github.com/invalid']):\n",
    "    \n",
    "    # Try your coce/function\n",
    "    try:\n",
    "        response = requests.get(url)\n",
    "\n",
    "        # If the response was successful, no Exception will be raised\n",
    "        response.raise_for_status()\n",
    "        \n",
    "    # except; will catch err message and allows to test what type of error was made\n",
    "    except HTTPError as http_err:\n",
    "        print(f'url {i}:{url}: HTTP error occurred: {http_err}')  # you can test specific error types separately\n",
    "    except Exception as err:\n",
    "        print(f'url {i}:{url}: Other error occurred: {err}')  # or you can raise any exception generated with the system\n",
    "  \n",
    "    # else; is executed if no errors raised in try, after code in try was already executed !\n",
    "    else:\n",
    "        print(f'url {i}:{url}: Success!')\n",
    "        \n",
    "    # finally is executed irrespectively whether error was rised or not\n",
    "    finally:\n",
    "        print(\"\\n\",f':::::::::::: code testing for url nr {i} was done properly ::::::::::::',\"\\n\")"
   ]
  },
  {
   "cell_type": "code",
   "execution_count": null,
   "metadata": {},
   "outputs": [],
   "source": []
  },
  {
   "cell_type": "markdown",
   "metadata": {},
   "source": [
    "## INSPECT RESPONSE CONTENT\n",
    "## - - - DESERIALIZE THE CONTENT\n",
    "## - - - - - - QUERY STRING PARAMETERS & HEADERS"
   ]
  },
  {
   "cell_type": "code",
   "execution_count": 67,
   "metadata": {},
   "outputs": [
    {
     "name": "stdout",
     "output_type": "stream",
     "text": [
      "200\n",
      "\n",
      " content (byte):   b'{\"current_user_url\":\"https://api.github.com/user\",\"current_user_authorizations_html_url\":\"https://gi'\n",
      "\n",
      " text (uts-8, str):   {\"current_user_url\":\"https://api.github.com/user\",\"current_user_authorizations_html_url\":\"https://gi\n",
      "\n",
      " set: utf-8 encoding:   {\"current_user_url\":\"https://api.github.com/user\",\"current_user_authorizations_html_url\":\"https://gi\n",
      "\n",
      " Content-Type :  application/json; charset=utf-8\n"
     ]
    }
   ],
   "source": [
    "\"\"\"\n",
    "    INSPECT CONTENT/PAYLOAD\n",
    "\"\"\"\n",
    "\n",
    "\n",
    "import requests\n",
    "response = requests.get('https://api.github.com')\n",
    "print(response.status_code)\n",
    "\n",
    "\n",
    "# --------------------------------------------------------------\n",
    "# See response's content\n",
    "\n",
    "# in bytes (ie. small int. 0 to 255)\n",
    "print(\"\\n content (byte):  \", response.content[0:100])\n",
    "\n",
    "# as string (utf-8)    \n",
    "print(\"\\n text (uts-8, str):  \", response.text[0:100])\n",
    "\n",
    "\n",
    "\n",
    "# --------------------------------------------------------------\n",
    "# content encoding; requests will try to guess the encoding based on headers\n",
    "\n",
    "# Set encoding to utf-8 (optional)\n",
    "response.encoding = 'utf-8'\n",
    "print(\"\\n set: utf-8 encoding:  \", response.text[0:100])\n",
    "\n",
    "\n",
    "\n",
    "# --------------------------------------------------------------\n",
    "# See metadata; ie. data on your data\n",
    "#.     - stored in response's headers\n",
    "#.     - eg:  content type, time limit on how long to cache the response \n",
    "#.     - IMPORTANT: the below function creates dct with CASE INSENSITIVE keys access headers\n",
    "\n",
    "# see headers;\n",
    "response.headers # function returns dct-like obj, keys are case insensitive (not like in dct)\n",
    "\n",
    "# access one header; like normal dct, case insensitive\n",
    "print(\"\\n\", list(response.headers)[1], \": \",response.headers[list(response.headers)[1]])"
   ]
  },
  {
   "cell_type": "code",
   "execution_count": 1,
   "metadata": {},
   "outputs": [
    {
     "name": "stdout",
     "output_type": "stream",
     "text": [
      "200\n",
      "\n",
      " Deserialized JSON, keys: ['current_user_url', 'current_user_authorizations_html_url']\n",
      "Value example: current_user_url : https://api.github.com/user\n"
     ]
    }
   ],
   "source": [
    "\"\"\"\n",
    "    DESERILIZE THE CONTENT\n",
    "    \n",
    "    * What is deserialization why You may need that?\n",
    "    \n",
    "         - Typically, request payload is a serialized JSON object:\n",
    "         - When transmitting data or storing them in a file, the data are required \n",
    "           to be byte strings but they are rarely in that format\n",
    "           thus, SERIALIZATION can convert these complex objects into byte strings\n",
    "         - After the byte strings are transmitted, \n",
    "           the receiver will have to recover the original object from the byte string. \n",
    "           This is known as DESERIALIZATION\n",
    "           \n",
    "         - pickle library (pickle & unpickle methods) can be used\n",
    "         - eg:\n",
    "           dct:  {foo: [1, 4, 7, 10], bar: \"baz\"}\n",
    "           JSON: '{\"foo\":[1,4,7,10],\"bar\":\"baz\"}'\n",
    "\n",
    "\"\"\"\n",
    "\n",
    "# get some content\n",
    "import requests\n",
    "response = requests.get('https://api.github.com')\n",
    "print(response.status_code)\n",
    "# 200\n",
    "\n",
    "# create dct with deserialized json in response\n",
    "dct = response.json()\n",
    "print(\"\\n Deserialized JSON, keys:\",list(dct)[0:2]) # dct.keys() # keys: no \"index\", thus we use list(dct) to get the keys\n",
    "print(\"Value example:\", list(dct)[0],\":\",dct[list(dct)[0]])"
   ]
  },
  {
   "cell_type": "code",
   "execution_count": 70,
   "metadata": {},
   "outputs": [
    {
     "name": "stdout",
     "output_type": "stream",
     "text": [
      "Repository name: grequests\n",
      "Repository description: Requests + Gevent = <3\n"
     ]
    },
    {
     "data": {
      "text/plain": [
       "\"\\nulr = 'https://api.github.com/search/repositories'\\nresponse = requests.get(\\n    url,\\n    params={'q': 'requests+language:python'},\\n    headers={'Accept': 'application/vnd.github.v3.text-match+json'},\\n)\\n\\napplication/vnd.github.v3.text-match+json; A proprietary GitHub Accept header \\nwhere the content is a special JSON format - it was probably chnaged\\n\""
      ]
     },
     "execution_count": 70,
     "metadata": {},
     "output_type": "execute_result"
    }
   ],
   "source": [
    "\"\"\"\n",
    "    QUERY STRING PARAMETERS & HEADERS\n",
    "    \n",
    "        * Query String;  part of a uniform resource locator (URL),\n",
    "                         which assigns values to specified parameters\n",
    "        * get() params,  used to create query string in automatic way\n",
    "\"\"\"\n",
    "\n",
    "\n",
    "# --------------------------------------------------------------\n",
    "# Parameters used to build a query\n",
    "\n",
    "# Our Example: Search GitHub's repositories for requests library in python\n",
    "ulr = 'https://api.github.com/search/repositories'\n",
    "response = requests.get(ulr,\n",
    "            params={'q': 'requests+language:python'},\n",
    "            )\n",
    "            #   Other formats are:\n",
    "            #.        - bytes:            params=b'q=requests+language:python'\n",
    "            #.        - list with tuples: params=[('q', 'requests+language:python')]\n",
    "\n",
    "##  or  ##\n",
    "\n",
    "# generate url with ulrlib\n",
    "from urllib.parse import urlencode\n",
    "\n",
    "oath_params = {'q': 'requests+language:python'}\n",
    "response = requests.get(f'{ulr}?{urlencode(oath_params)}')\n",
    "\n",
    "\n",
    "# --------------------------------------------------------------\n",
    "# Inspect attributes of the `requests` repository\n",
    "\n",
    "# deserialize\n",
    "json_response = response.json() # deserialized json reponse\n",
    "repository = json_response['items'][0] # get list with your items\n",
    "\n",
    "print(f'Repository name: {repository[\"name\"]}')  # \n",
    "print(f'Repository description: {repository[\"description\"]}')\n",
    "\n",
    "\n",
    "\n",
    "# --------------------------------------------------------------\n",
    "# Heraders; used to specify search parameters by giving \n",
    "\n",
    "# Specify media-type as text, using Accept header.\n",
    "# THIS FUNCTION DIDN'T WORK BUT I PLACED IT HERE TO KNOW ON THAT HEADERS IN GET  \n",
    "\"\"\"\n",
    "ulr = 'https://api.github.com/search/repositories'\n",
    "response = requests.get(\n",
    "    url,\n",
    "    params={'q': 'requests+language:python'},\n",
    "    headers={'Accept': 'application/vnd.github.v3.text-match+json'},\n",
    ")\n",
    "\n",
    "application/vnd.github.v3.text-match+json; A proprietary GitHub Accept header \n",
    "where the content is a special JSON format - it was probably chnaged\n",
    "\"\"\""
   ]
  },
  {
   "cell_type": "code",
   "execution_count": null,
   "metadata": {},
   "outputs": [],
   "source": []
  },
  {
   "cell_type": "markdown",
   "metadata": {},
   "source": [
    "## ----------- OTHER METHODS --------------"
   ]
  },
  {
   "cell_type": "code",
   "execution_count": null,
   "metadata": {},
   "outputs": [],
   "source": []
  },
  {
   "cell_type": "markdown",
   "metadata": {},
   "source": [
    "## OTHER HTTP METHODS\n",
    "## - - - MESSAGE BODY USED IN SOME FUNCTIONS\n",
    "## - - - - - - INSPECTING REQUEST\n",
    "\n",
    "\n",
    "### httpbin.org\n",
    "    * created by the author of requests, Kenneth Reitz\n",
    "    * service that accepts test requests and responds with data about the requests."
   ]
  },
  {
   "cell_type": "code",
   "execution_count": 39,
   "metadata": {},
   "outputs": [
    {
     "name": "stdout",
     "output_type": "stream",
     "text": [
      "application/json\n",
      "{}\n"
     ]
    }
   ],
   "source": [
    "\"\"\"\n",
    "    OTHER HTTP METHODS\n",
    "    \n",
    "        >>> requests.post('https://httpbin.org/post', data={'key':'value'})\n",
    "        >>> requests.put('https://httpbin.org/put', data={'key':'value'})\n",
    "        >>> requests.delete('https://httpbin.org/delete')\n",
    "        >>> requests.head('https://httpbin.org/get')\n",
    "        >>> requests.patch('https://httpbin.org/patch', data={'key':'value'})\n",
    "        >>> requests.options('https://httpbin.org/get')\n",
    "\"\"\"\n",
    "\n",
    "# You can inspect their responses in the same way you did before\n",
    "response = requests.head('https://httpbin.org/get')\n",
    "print(response.headers['Content-Type'])\n",
    "\n",
    "response = requests.delete('https://httpbin.org/delete')\n",
    "json_response = response.json()\n",
    "print(json_response['args'])"
   ]
  },
  {
   "cell_type": "code",
   "execution_count": 71,
   "metadata": {},
   "outputs": [
    {
     "name": "stdout",
     "output_type": "stream",
     "text": [
      "{\"key\": \"value\"}\n",
      "application/json\n"
     ]
    }
   ],
   "source": [
    "\"\"\"\n",
    "    MESSAGE BODY USED IN SOME FUNCTIONS\n",
    "    \n",
    "        * used by POST, PUT, PATCH methods only!\n",
    "        * the data are passed through the message body, not parameters in the query string\n",
    "        * input formats: dictionary, a list of tuples, bytes, or a file-like object\n",
    "          >>>   requests.post('url', data={'key':'value'} # dct\n",
    "          >>>   requests.post('url', data=[('key', 'value')]) # list of tupples\n",
    "          >>>.  requests.post('url', json={'key':'value'} # json that is atumatically dserialized\n",
    "\"\"\"\n",
    "\n",
    "# sedn some message to httpbin.org\n",
    "response = requests.post('https://httpbin.org/post', json={'key':'value'})\n",
    "json_response = response.json()\n",
    "print(json_response['data'])\n",
    "print(json_response['headers']['Content-Type'])"
   ]
  },
  {
   "cell_type": "code",
   "execution_count": 52,
   "metadata": {},
   "outputs": [],
   "source": [
    "\"\"\"\n",
    "    INSPECTING REQUEST\n",
    "    \n",
    "    Why?\n",
    "         the requests library prepares the request before sending it to destination server. \n",
    "         eg: headers validation and JSON serialization.\n",
    "\"\"\"\n",
    "\n",
    "# See prepared request by accessing .request\n",
    "response = requests.post('https://httpbin.org/post', json={'key':'value'})\n",
    "\n",
    "# see headers:\n",
    "response.request.headers['Content-Type']\n",
    "\n",
    "# see url\n",
    "response.request.url\n",
    "\n",
    "# see body\n",
    "response.request.body"
   ]
  },
  {
   "cell_type": "code",
   "execution_count": null,
   "metadata": {},
   "outputs": [],
   "source": []
  },
  {
   "cell_type": "markdown",
   "metadata": {},
   "source": [
    "## ----------- SECURITY --------------"
   ]
  },
  {
   "cell_type": "code",
   "execution_count": null,
   "metadata": {},
   "outputs": [],
   "source": []
  },
  {
   "cell_type": "markdown",
   "metadata": {},
   "source": [
    "## AUTHENTICATION\n",
    "## - - - SET CUSTOME AUTHENTICATION SCHEME\n",
    "## - - - - - - SSL CERTIFICATE VERIFICATION\n",
    "## - - - - - - - - - THE SESSION OBJECT"
   ]
  },
  {
   "cell_type": "code",
   "execution_count": 72,
   "metadata": {},
   "outputs": [
    {
     "name": "stdin",
     "output_type": "stream",
     "text": [
      " ···········\n"
     ]
    },
    {
     "data": {
      "text/plain": [
       "<Response [200]>"
      ]
     },
     "execution_count": 72,
     "metadata": {},
     "output_type": "execute_result"
    }
   ],
   "source": [
    "\"\"\"\n",
    "    AUTHENTICATION\n",
    "    \n",
    "        * helps a service understand who you are,\n",
    "        * you can provide your login and password with that method\n",
    "        * Typically, you provide your credentials to a server by passing data through the Authorization header \n",
    "          or a custom header defined by the service\n",
    "    \n",
    "        * auth;   parameter in all requests methods used to  pass your credentials\n",
    "        \n",
    "        * 401;    Unauthorized; status code for get with no proper credentials\n",
    "        \n",
    "\"\"\"\n",
    "\n",
    "# ------------------------------\n",
    "# login to GitHub\n",
    "\n",
    "# use getpass function to hide your password\n",
    "from getpass import getpass\n",
    "\n",
    "user_name = \"PawelRosikiewicz\"\n",
    "requests.get('https://api.github.com/user', auth=(user_name, getpass()))\n",
    "#:)"
   ]
  },
  {
   "cell_type": "code",
   "execution_count": 74,
   "metadata": {},
   "outputs": [
    {
     "name": "stdin",
     "output_type": "stream",
     "text": [
      " ···········\n"
     ]
    },
    {
     "data": {
      "text/plain": [
       "<Response [200]>"
      ]
     },
     "execution_count": 74,
     "metadata": {},
     "output_type": "execute_result"
    }
   ],
   "source": [
    "\"\"\"\n",
    "    SET AUTHENTICATION SCHEME\n",
    "    \n",
    "    * When you pass your username and password in a tuple to the auth parameter, \n",
    "      requests is applying the credentials using HTTP’s Basic access authentication scheme under the hood.\n",
    "      Therefore, you could make the same request by passing explicit Basic authentication \n",
    "      credentials using HTTPBasicAuth:\n",
    "    \n",
    "    * requests provides other methods of authentication: \n",
    "        - HTTPDigestAuth\n",
    "        - HTTPProxyAuth\n",
    "        \n",
    "    * to make your your own authentication mechanism with; from requests.auth import AuthBase\n",
    "       visit: https://realpython.com/python-requests/#author\n",
    "\"\"\"\n",
    "\n",
    "# use explicitly HTTPBasicAuth for auth\n",
    "\n",
    "from requests.auth import HTTPBasicAuth\n",
    "from getpass import getpass\n",
    "\n",
    "user_name = \"PawelRosikiewicz\"\n",
    "requests.get(\n",
    "    'https://api.github.com/user',\n",
    "    auth=HTTPBasicAuth(user_name, getpass())\n",
    "    )"
   ]
  },
  {
   "cell_type": "code",
   "execution_count": 76,
   "metadata": {},
   "outputs": [
    {
     "name": "stderr",
     "output_type": "stream",
     "text": [
      "/Users/pawel/anaconda3/envs/exts-ml/lib/python3.6/site-packages/urllib3/connectionpool.py:857: InsecureRequestWarning: Unverified HTTPS request is being made. Adding certificate verification is strongly advised. See: https://urllib3.readthedocs.io/en/latest/advanced-usage.html#ssl-warnings\n",
      "  InsecureRequestWarning)\n"
     ]
    },
    {
     "data": {
      "text/plain": [
       "<Response [200]>"
      ]
     },
     "execution_count": 76,
     "metadata": {},
     "output_type": "execute_result"
    }
   ],
   "source": [
    "\"\"\"\n",
    "    SSL CERTIFICATE VERIFICATION\n",
    "    \n",
    "        * by defaults is on!\n",
    "\"\"\"\n",
    "\n",
    "# disable ssl, to connect to siters without it!\n",
    "requests.get('https://api.github.com', verify=False)\n",
    "\n",
    "\n",
    "\"\"\"\n",
    "        !!! IMPORTANRT !!!\n",
    "\n",
    "        certifi PACKAGE to provide Certificate Authorities in Python\n",
    "        Update certifi frequently to keep your connections as secure as possible.\n",
    "\n",
    "\"\"\"\n"
   ]
  },
  {
   "cell_type": "code",
   "execution_count": null,
   "metadata": {},
   "outputs": [],
   "source": [
    "\"\"\"\n",
    "    THE SESSION OBJECT\n",
    "    \n",
    "        * used to persist parameters across requests\n",
    "            -  eg: if you want to use the same authentication across multiple requests\n",
    "        \n",
    "        * it creates persistent connection between clinets and the server\n",
    "            -> When your app makes a connection to a server using a Session, \n",
    "               it keeps that connection around in a connection pool, i.e.\n",
    "               it will reuse a connection from the pool rather than establishing a new one\n",
    "            -> improves the performance of your requests\n",
    "\"\"\"\n",
    "\n",
    "# imports\n",
    "import requests\n",
    "from getpass import getpass\n",
    "\n",
    "# GitHub data:\n",
    "user_name = \"PawelRosikiewicz\"\n",
    "\n",
    "# By using a context manager, you can ensure the resources used by\n",
    "# the session will be released after use\n",
    "with requests.Session() as session:\n",
    "    session.auth = (user_name, getpass())\n",
    "\n",
    "    # Instead of requests.get(), you'll use session.get()\n",
    "    response = session.get('https://api.github.com/user')\n",
    "\n",
    "# You can inspect the response just like you did before\n",
    "print(response.headers)\n",
    "print(response.json())# create dct with deserialized json in response"
   ]
  },
  {
   "cell_type": "code",
   "execution_count": null,
   "metadata": {},
   "outputs": [],
   "source": []
  },
  {
   "cell_type": "markdown",
   "metadata": {},
   "source": [
    "## ----------- PERFORMANCE --------------"
   ]
  },
  {
   "cell_type": "code",
   "execution_count": null,
   "metadata": {},
   "outputs": [],
   "source": []
  },
  {
   "cell_type": "markdown",
   "metadata": {},
   "source": [
    "## TIMEOUTS\n",
    "## - - - RISE TIMEOUT ECXCEPTION\n",
    "## - - - - - - MAX RETRIES"
   ]
  },
  {
   "cell_type": "code",
   "execution_count": 1,
   "metadata": {},
   "outputs": [
    {
     "data": {
      "text/plain": [
       "<Response [200]>"
      ]
     },
     "execution_count": 1,
     "metadata": {},
     "output_type": "execute_result"
    }
   ],
   "source": [
    "\"\"\"\n",
    "    TIMEOUTS\n",
    "    \n",
    "    * When you make an inline request to an external service, \n",
    "      your system will need to wait upon the response before moving on\n",
    "      If your application waits too long for that response, requests to your service \n",
    "      could back up, your user experience could suffer, or your background jobs could hang.\n",
    "          \n",
    "    * BY DEFAULT THERE IS NO TIMEOUT IN REQUESTS\n",
    "      ie. the function will waith indefiniately\n",
    "\"\"\"\n",
    "\n",
    "import requests\n",
    "\n",
    "# Specify timeout,\n",
    "requests.get('https://api.github.com', timeout=3.05) # 3.05 sec\n",
    "\n",
    "# timout for in/out\n",
    "requests.get('https://api.github.com', timeout=(2, 5)) \n",
    "   # request must establish a connection within 2 sec. and receives data within 5 sec."
   ]
  },
  {
   "cell_type": "code",
   "execution_count": 2,
   "metadata": {},
   "outputs": [
    {
     "name": "stdout",
     "output_type": "stream",
     "text": [
      "The request did not time out\n"
     ]
    }
   ],
   "source": [
    "\"\"\"\n",
    "    RISE TIMEOUT ECXCEPTION\n",
    "\"\"\"\n",
    "\n",
    "# Your program can catch the Timeout exception and respond accordingly.\n",
    "import requests\n",
    "from requests.exceptions import Timeout\n",
    "\n",
    "try:\n",
    "    response = requests.get('https://api.github.com', timeout=1)\n",
    "except Timeout:\n",
    "    print('The request timed out')\n",
    "else:\n",
    "    print('The request did not time out')"
   ]
  },
  {
   "cell_type": "code",
   "execution_count": 3,
   "metadata": {},
   "outputs": [],
   "source": [
    "\"\"\"\n",
    "    MAX RETRIES\n",
    "    \n",
    "        * if request fails, you wish to try again, but you dont want to do that to many times\n",
    "          it is a criminal offence to block someones webpage!!!!\n",
    "          \n",
    "        * You may want to set up transport adapters, a module of request liobrary that specify\n",
    "          how clinet communicate with the server: https://2.python-requests.org//en/master/user/advanced/#transport-adapters\n",
    "           - Transport Adapters let you define a set of configurations per service you’re interacting with\n",
    "           \n",
    "        * let’s say you want all requests to https://api.github.com \n",
    "          to retry three times before finally raising a ConnectionError\n",
    "\"\"\"\n",
    "\n",
    "# imports\n",
    "import requests\n",
    "from requests.adapters import HTTPAdapter\n",
    "from requests.exceptions import ConnectionError\n",
    "\n",
    "# choose tranposrt adapter and set up max_retires\n",
    "github_adapter = HTTPAdapter(max_retries=3) # set up max_retries !!!!! IMPORTANT\n",
    "\n",
    "# create a session\n",
    "session = requests.Session()\n",
    "\n",
    "# Use `github_adapter` with selected transport ad.. for all requests \n",
    "#.     to endpoints that start with this URL\n",
    "session.mount('https://api.github.com', github_adapter)\n",
    "\n",
    "try:\n",
    "    session.get('https://api.github.com')\n",
    "    \n",
    "except ConnectionError as ce:\n",
    "    print(ce)"
   ]
  },
  {
   "cell_type": "code",
   "execution_count": null,
   "metadata": {},
   "outputs": [],
   "source": []
  },
  {
   "cell_type": "code",
   "execution_count": null,
   "metadata": {},
   "outputs": [],
   "source": []
  },
  {
   "cell_type": "code",
   "execution_count": null,
   "metadata": {},
   "outputs": [],
   "source": []
  },
  {
   "cell_type": "code",
   "execution_count": null,
   "metadata": {},
   "outputs": [],
   "source": []
  },
  {
   "cell_type": "code",
   "execution_count": null,
   "metadata": {},
   "outputs": [],
   "source": []
  },
  {
   "cell_type": "code",
   "execution_count": null,
   "metadata": {},
   "outputs": [],
   "source": []
  },
  {
   "cell_type": "code",
   "execution_count": null,
   "metadata": {},
   "outputs": [],
   "source": []
  },
  {
   "cell_type": "code",
   "execution_count": null,
   "metadata": {},
   "outputs": [],
   "source": []
  },
  {
   "cell_type": "code",
   "execution_count": null,
   "metadata": {},
   "outputs": [],
   "source": []
  },
  {
   "cell_type": "code",
   "execution_count": null,
   "metadata": {},
   "outputs": [],
   "source": []
  },
  {
   "cell_type": "code",
   "execution_count": null,
   "metadata": {},
   "outputs": [],
   "source": []
  }
 ],
 "metadata": {
  "kernelspec": {
   "display_name": "Python 3",
   "language": "python",
   "name": "python3"
  },
  "language_info": {
   "codemirror_mode": {
    "name": "ipython",
    "version": 3
   },
   "file_extension": ".py",
   "mimetype": "text/x-python",
   "name": "python",
   "nbconvert_exporter": "python",
   "pygments_lexer": "ipython3",
   "version": "3.6.8"
  }
 },
 "nbformat": 4,
 "nbformat_minor": 4
}
