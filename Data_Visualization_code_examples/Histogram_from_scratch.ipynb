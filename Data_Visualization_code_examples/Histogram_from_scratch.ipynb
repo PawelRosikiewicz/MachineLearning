{
 "cells": [
  {
   "cell_type": "markdown",
   "id": "f154bedf-9a8a-447f-a638-8b18f2764e81",
   "metadata": {},
   "source": [
    "# How a histogram is being made:\n",
    "---\n",
    "Step by step implementation from scratch    \n",
    "the figure was implemented using only the matplotlib basic functions.   \n",
    "\n",
    "* nice instruction on how to create a histogram: https://www.youtube.com/watch?v=gSEYtAjuZ-Y\n"
   ]
  },
  {
   "cell_type": "code",
   "execution_count": 3,
   "id": "e79712a4-c0da-455e-bdcd-cb396b03a410",
   "metadata": {},
   "outputs": [],
   "source": [
    "import numpy as np\n",
    "import math as math\n",
    "import matplotlib.pyplot as plt"
   ]
  },
  {
   "cell_type": "markdown",
   "id": "5c388f8d-12b4-4cbe-b402-98ed089596ab",
   "metadata": {},
   "source": [
    "## Example data\n",
    "client ages in restaurant"
   ]
  },
  {
   "cell_type": "code",
   "execution_count": 4,
   "id": "1b2ac267-3397-41b3-9318-cecaee328342",
   "metadata": {},
   "outputs": [],
   "source": [
    "data = [1, 3, 4, 5, 6, 9, 16, 18, 19, 22, 25, \n",
    "        26, 27, 29, 32, 42, 45, 51, 58, 63] # sorted(data)"
   ]
  },
  {
   "cell_type": "markdown",
   "id": "a42a0f83-1eb9-475c-ba89-ace40a9db528",
   "metadata": {},
   "source": [
    "## Histogram"
   ]
  },
  {
   "cell_type": "markdown",
   "id": "c6f3a97e-357e-40fc-a25a-31609a6dc31d",
   "metadata": {},
   "source": [
    "### Step 1. decide on the number of bins/buckets"
   ]
  },
  {
   "cell_type": "code",
   "execution_count": 6,
   "id": "0c626097-9800-4059-87f3-a541e662be93",
   "metadata": {},
   "outputs": [],
   "source": [
    "bin_nr = 7"
   ]
  },
  {
   "cell_type": "markdown",
   "id": "f259f146-1213-4d1f-a9c9-69e1a0fc76e4",
   "metadata": {},
   "source": [
    "### Step 2   Calculate bin size\n",
    "Steps 2 and 3 are the most important part or caulations, becuase all values in a data will be assignt to each bin, based on their, number, size and range  \n",
    "\n",
    "__In our example we will use the following formula__  \n",
    "* bin_size = (max_value - min_vale)/bin_nr\n",
    "* results will be rounded up, and if we encounter the whole number eg. 5, we will add 1 to it (it is done, so the bars are touching each other on a plot)\n",
    "    * eg: 5.456 -> 6\n",
    "    * 5     -> 6\n",
    "    * 6     -> 7\n",
    "\n",
    "\n",
    "__Caution:__   \n",
    "the differences in histograms calculated wiht different methods comes from different bin size and range.\n",
    "\n",
    "__Our example__   \n",
    "expected results are: if bin_nr = 7; bin_size = 9"
   ]
  },
  {
   "cell_type": "code",
   "execution_count": null,
   "id": "2deb5548-ce12-4248-ab15-8d33388861b4",
   "metadata": {},
   "outputs": [],
   "source": [
    "bin_size = (max(data)-min(data))/bin_nr\n",
    "if math.ceil(bin_size)==bin_size:  \n",
    "    bin_size +=1\n",
    "else: \n",
    "    bin_size = math.ceil(bin_size)"
   ]
  },
  {
   "cell_type": "markdown",
   "id": "07086d72-0927-4199-bb73-846c4b126509",
   "metadata": {},
   "source": [
    "### Step 3. Calculate bin ranges; \n",
    "__Our example__\n",
    "* here we start at min(data) that is equal to 1.\n",
    "* the end of the last bin may go over the max(data)\n",
    "* therefore, if bin_nr=7; it shoudl be:\n",
    "    * [(1, 9), (10, 18), (19, 27), (28, 36), (37, 45), (46, 54), (55, 63)]\n",
    "    \n",
    "__Caution__   \n",
    "the results will be different if you start at 0!!\n",
    "\n"
   ]
  },
  {
   "cell_type": "code",
   "execution_count": 7,
   "id": "2ca15403-d346-4607-9bd9-6c93a8605f31",
   "metadata": {},
   "outputs": [],
   "source": [
    "bin_sizes = []\n",
    "for i in range(0,bin_nr):\n",
    "    if i == 0:\n",
    "        start = min(data)\n",
    "        end = start+bin_size-1\n",
    "    else:\n",
    "        start = end+1\n",
    "        end = start+bin_size-1\n",
    "    bin_sizes.append((start, end))"
   ]
  },
  {
   "cell_type": "markdown",
   "id": "94e029a2-a4a5-4b37-8134-b3d352916c93",
   "metadata": {},
   "source": [
    "### Step 4.Calculate frequency for each bin\n",
    "i.e assign each value from the datasets to each bin, and check how many of them is there."
   ]
  },
  {
   "cell_type": "code",
   "execution_count": 8,
   "id": "83bcd112-85af-458a-ac72-07d81b32c2d7",
   "metadata": {},
   "outputs": [],
   "source": [
    "bin_frequency = []\n",
    "for i in range(bin_nr):\n",
    "    \n",
    "    start =  bin_sizes[i][0]\n",
    "    end = bin_sizes[i][1]\n",
    "    bin_freq = np.sum([1 if (x>=start) & (x<=end) else 0 for x in data]) \n",
    "    # Caution, this algorith would work only wiht integers, not floats.\n",
    "    bin_frequency.append(bin_freq)\n",
    "\n",
    "    # results:\n",
    "    # data = [1, 3, 4, 5, 6, 9, 16, 18, 19, 22, 25, 26, 27, 29, 32, 42, 45, 51, 58, 63]\n",
    "    #\n",
    "    # id      bin     |  frequency\n",
    "    # -------------------------------\n",
    "    # 1.   (1, 9)     |      6\n",
    "    # 2.   (10, 18)   |      2\n",
    "    # 3.   (19, 27)   |      5\n",
    "    # 4.   (28, 36)   |      2\n",
    "    # 5.   (37, 45)   |      2\n",
    "    # 6.   (46, 54)   |      1\n",
    "    # 7.   (55, 63)   |      2"
   ]
  },
  {
   "cell_type": "markdown",
   "id": "35eb86ee-961b-48da-888c-155d0887757d",
   "metadata": {},
   "source": [
    "### Step 5. Create a histogram \n",
    "for this, we will use recatagular patches:     \n",
    "    that take the following parameters: \n",
    "    Rectangle(xy, width, height[, angle])"
   ]
  },
  {
   "cell_type": "code",
   "execution_count": 1,
   "id": "c8dfabdf-cf3e-4f38-a2ac-867fa37bebe2",
   "metadata": {
    "tags": []
   },
   "outputs": [
    {
     "data": {
      "text/plain": [
       "[(1, 9), (10, 18), (19, 27), (28, 36), (37, 45), (46, 54), (55, 63)]"
      ]
     },
     "execution_count": 1,
     "metadata": {},
     "output_type": "execute_result"
    },
    {
     "data": {
      "image/png": "[encoded data removed]",
      "text/plain": [
       "<Figure size 1152x576 with 2 Axes>"
      ]
     },
     "metadata": {
      "needs_background": "light"
     },
     "output_type": "display_data"
    }
   ],
   "source": [
    "# import required function\n",
    "from matplotlib.patches import Rectangle \n",
    "\n",
    "# create a figure\n",
    "fig = plt.figure(figsize=(16,8))\n",
    "\n",
    "# ---------------------------\n",
    "# hand made hist wiht rectangels\n",
    "# ---------------------------\n",
    "ax = fig.add_subplot(121)\n",
    "for i in range(bin_nr):\n",
    "    bottom_left_X = bin_sizes[i][0]\n",
    "    bottom_left_Y = 0 # all bars starts at 0, in that example\n",
    "    bin_width = bin_size\n",
    "    bin_height = bin_frequency[i]\n",
    "    ax.add_patch(Rectangle((bottom_left_X, bottom_left_Y), bin_width, bin_height, \n",
    "                           alpha=1, color=\"darkgrey\",ec=\"black\", lw=2))\n",
    "    \n",
    "# set up axes limits, title and labels\n",
    "ax.set_xlim(bin_sizes[0][0]-1,bin_sizes[bin_nr-1][1]+2)\n",
    "ax.set_ylim(0, max(bin_frequency)+1)\n",
    "ax.set_xlabel(\"Client age in restaurant\", fontsize=15)\n",
    "ax.set_ylabel(\"Frequency\", fontsize=15)\n",
    "ax.set_title(\"Hand-made Histogram; \\n by Kahn Academy and Pawel Rosikiewicz\", fontsize=15)\n",
    "\n",
    "# remove lines on right and top\n",
    "ax.spines['top'].set_visible(False)\n",
    "ax.spines['right'].set_visible(False)\n",
    "    \n",
    "# set color and line width for visible spines\n",
    "ax.spines['bottom'].set_color(\"black\") # x axis\n",
    "ax.spines['left'].set_color(\"black\")   # y axis\n",
    "ax.spines['bottom'].set_linewidth(2) # x axis\n",
    "ax.spines['left'].set_linewidth(2) # x axis\n",
    "\n",
    "# add more ticks than by default\n",
    "ax.set_xticks(list(range(0,max(data)+2,2)))\n",
    "\n",
    "# set color, size and direction for ticks\n",
    "ax.tick_params(axis='x', colors='black', direction='out', length=12, width=2) # tick only\n",
    "ax.tick_params(axis='y', colors='black', direction='out', length=12, width=2) # tick only\n",
    "\n",
    "# Show ticks only on the visible spines\n",
    "ax.yaxis.set_ticks_position('left')\n",
    "ax.xaxis.set_ticks_position('bottom')\n",
    "\n",
    "# add grid to easier read the data in each bin\n",
    "ax.grid(True, color=\"grey\")\n",
    "\n",
    "\n",
    "# ---------------------------\n",
    "# hist with plt.hist()\n",
    "# ---------------------------\n",
    "\n",
    "# create a figure\n",
    "ax = fig.add_subplot(122)\n",
    "ax.hist(data, bins=bin_nr, edgecolor=\"black\")\n",
    "\n",
    "# limits, title, and ticks (like before)\n",
    "ax.set_xlim(bin_sizes[0][0]-1,bin_sizes[bin_nr-1][1]+1)\n",
    "ax.set_ylim(0, max(bin_frequency)+1)\n",
    "ax.set_xticks(list(range(0,max(data)+2,2)))\n",
    "ax.set_title(\"Histogram created suing plt.hist() function \\n wiht the same bin number as in hand-made\", fontsize=15)\n",
    "\n",
    "# Only show ticks on the left and bottom spines, and makde then as before.\n",
    "ax.yaxis.set_ticks_position('left')\n",
    "ax.xaxis.set_ticks_position('bottom')\n",
    "ax.tick_params(axis='x', colors='black', direction='out', length=12, width=2) # tick only\n",
    "ax.tick_params(axis='y', colors='black', direction='out', length=12, width=2) # tick only\n",
    "\n",
    "# !!! we ommited some eastetics to make the code shorter !!!\n",
    "\n",
    "# Finally, fix layout \n",
    "# so the text and histograms do not overal with each other \n",
    "plt.tight_layout()\n",
    "bin_sizes"
   ]
  }
 ],
 "metadata": {
  "kernelspec": {
   "display_name": "Python 3",
   "language": "python",
   "name": "python3"
  },
  "language_info": {
   "codemirror_mode": {
    "name": "ipython",
    "version": 3
   },
   "file_extension": ".py",
   "mimetype": "text/x-python",
   "name": "python",
   "nbconvert_exporter": "python",
   "pygments_lexer": "ipython3",
   "version": "3.7.10"
  }
 },
 "nbformat": 4,
 "nbformat_minor": 5
}
